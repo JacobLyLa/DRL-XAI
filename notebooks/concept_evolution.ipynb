{
 "cells": [
  {
   "cell_type": "code",
   "execution_count": 1,
   "metadata": {},
   "outputs": [],
   "source": [
    "import os\n",
    "os.chdir('../')"
   ]
  },
  {
   "cell_type": "code",
   "execution_count": 2,
   "metadata": {},
   "outputs": [],
   "source": [
    "import pickle\n",
    "\n",
    "import matplotlib.pyplot as plt\n",
    "import numpy as np\n",
    "from matplotlib import cm\n",
    "\n",
    "from src.DRL.qnetwork import QNetwork\n",
    "from src.XAI.concept import Concept\n",
    "from src.XAI.concept_probes import train_probes\n",
    "from src.XAI.concepts import concept_instances"
   ]
  },
  {
   "cell_type": "code",
   "execution_count": 3,
   "metadata": {},
   "outputs": [
    {
     "name": "stdout",
     "output_type": "stream",
     "text": [
      "Number of hyperparameters: 6\n"
     ]
    }
   ],
   "source": [
    "lr = (0.1, 0.01, 0.001)\n",
    "batch_size = (128, 1024)\n",
    "\n",
    "# Permute all hyperparameters\n",
    "hyperparams = []\n",
    "for lr_ in lr:\n",
    "    for batch_size_ in batch_size:\n",
    "        hyperparams.append({\n",
    "            'lr': lr_,\n",
    "            'lambda_l1': 0.0,\n",
    "            'patience': 5,\n",
    "            'epochs': 100,\n",
    "            'batch_size': batch_size_,\n",
    "        })\n",
    "        \n",
    "print(f'Number of hyperparameters: {len(hyperparams)}')"
   ]
  },
  {
   "cell_type": "code",
   "execution_count": 4,
   "metadata": {},
   "outputs": [],
   "source": [
    "env_steps = Concept.load_concept_data()\n",
    "\n",
    "model_path = 'runs/20240128-235322'\n",
    "models = os.listdir(model_path)\n",
    "# Number of steps from file name\n",
    "models = [(f, int(f.split('_')[1].replace('.pt',''))) for f in models if f.endswith(\".pt\")]\n",
    "# Sort on the number of steps\n",
    "models.sort(key=lambda x: x[1])"
   ]
  },
  {
   "cell_type": "code",
   "execution_count": 5,
   "metadata": {},
   "outputs": [],
   "source": [
    "def create_concept_evolution(concept, models, layers):\n",
    "    train_steps = [m[1] for m in models]\n",
    "    concept.prepare_data(env_steps, max_size=5000)\n",
    "    input_score = None\n",
    "    \n",
    "    scores = {}\n",
    "    x, y = np.meshgrid(train_steps, layers)\n",
    "    scores['x'] = x\n",
    "    scores['y'] = y\n",
    "    scores['z'] = np.zeros((len(layers), len(train_steps)))\n",
    "    \n",
    "    for step_index, step in enumerate(train_steps):\n",
    "        path = os.path.join(model_path, f'model_{step}.pt')\n",
    "        model = QNetwork(frame_stacks=4, model_path=path)\n",
    "        #print(\"Probing model:\", path)\n",
    "        # If it's the first model, get the input score\n",
    "        if input_score is None:\n",
    "            layer_probes, layer_info, best_hyperparams = train_probes(model, concept, hyperparams, [-1] + layers)\n",
    "            input_score = layer_info[-1]['test_score'][-1]\n",
    "        else:\n",
    "            layer_probes, layer_info, best_hyperparams = train_probes(model, concept, hyperparams, layers)\n",
    "        for layer_index, layer in enumerate(layers):\n",
    "            score = layer_info[layer]['test_score'][-1]\n",
    "            #print(f'Layer {layer_index} | Step {step} | Score: {score:.3f}')\n",
    "            scores['z'][layer_index][step_index] = score\n",
    "    \n",
    "        print(f'Best hyperparameters: {best_hyperparams}')\n",
    "    with open(f'{concept.folder_path}/evolution.pkl', 'wb') as f:\n",
    "        pickle.dump(scores, f)\n",
    "        \n",
    "    train_steps = np.array(train_steps)\n",
    "    z_input = np.full(scores['z'].shape, input_score)\n",
    "\n",
    "    fig = plt.figure(figsize=(5, 5))\n",
    "    ax = plt.axes(projection='3d')\n",
    "    ax.text2D(0.5, 0.9, f'{concept.name}', transform=ax.transAxes, ha='center', fontsize=20)\n",
    "    ax.view_init(elev=30, azim=210)\n",
    "    \n",
    "    '''\n",
    "    ax.plot_surface(np.log10(scores['x']+1), scores['y'], z_input, vmin=0, vmax=1, alpha=0.5, cmap=cm.plasma)\n",
    "    ax.plot_surface(np.log10(scores['x']+1), scores['y'], np.maximum(0, scores['z']), vmin=0, vmax=1, cmap=cm.plasma)\n",
    "\n",
    "    ax.set_xlabel('Training steps', fontsize=12, labelpad=10)\n",
    "    ax.set_xticks(np.log10([1, 10**3, 10**5, 10**7]))\n",
    "    ax.set_xticklabels(['$0$', '$10^3$', '$10^5$', '$10^7$'])\n",
    "    '''\n",
    "\n",
    "    ax.plot_surface(scores['x'], scores['y'], z_input, vmin=0, vmax=1, alpha=0.5)#, cmap=cm.plasma)\n",
    "    ax.plot_surface(scores['x'], scores['y'], np.maximum(0, scores['z']), vmin=0, vmax=1, cmap=cm.plasma)\n",
    "\n",
    "    ax.set_xlabel('Training steps', fontsize=12, labelpad=10)\n",
    "    labeled_train_steps = train_steps[::2]\n",
    "    ax.set_xticks(labeled_train_steps)\n",
    "    ax.set_xticklabels([f'{step//1000000}m' for step in labeled_train_steps])\n",
    "\n",
    "    ax.set_ylabel('Layer', fontsize=12, labelpad=10)\n",
    "    ax.set_yticks(layers)\n",
    "    ax.set_yticklabels(layers)\n",
    "    ax.set_zlabel('Score', fontsize=12)\n",
    "    ax.set_box_aspect(aspect=None, zoom=0.8)\n",
    "\n",
    "    ax.set_zlim(0, 1)\n",
    "    plt.savefig(f'{concept.folder_path}/evolution.png')\n",
    "    plt.show()"
   ]
  },
  {
   "cell_type": "code",
   "execution_count": 6,
   "metadata": {},
   "outputs": [
    {
     "name": "stdout",
     "output_type": "stream",
     "text": [
      "Best hyperparameters: [{'lr': 0.1, 'lambda_l1': 0.0, 'patience': 5, 'epochs': 100, 'batch_size': 128}]\n",
      "Best hyperparameters: [{'lr': 0.1, 'lambda_l1': 0.0, 'patience': 5, 'epochs': 100, 'batch_size': 1024}]\n",
      "Best hyperparameters: [{'lr': 0.1, 'lambda_l1': 0.0, 'patience': 5, 'epochs': 100, 'batch_size': 1024}]\n",
      "Best hyperparameters: [{'lr': 0.1, 'lambda_l1': 0.0, 'patience': 5, 'epochs': 100, 'batch_size': 1024}]\n",
      "Best hyperparameters: [{'lr': 0.1, 'lambda_l1': 0.0, 'patience': 5, 'epochs': 100, 'batch_size': 1024}]\n",
      "Best hyperparameters: [{'lr': 0.1, 'lambda_l1': 0.0, 'patience': 5, 'epochs': 100, 'batch_size': 1024}]\n",
      "Best hyperparameters: [{'lr': 0.1, 'lambda_l1': 0.0, 'patience': 5, 'epochs': 100, 'batch_size': 1024}]\n"
     ]
    }
   ],
   "source": [
    "for concept in concept_instances.values():\n",
    "    create_concept_evolution(concept, models, list(range(9)))"
   ]
  }
 ],
 "metadata": {
  "kernelspec": {
   "display_name": ".venv",
   "language": "python",
   "name": "python3"
  },
  "language_info": {
   "codemirror_mode": {
    "name": "ipython",
    "version": 3
   },
   "file_extension": ".py",
   "mimetype": "text/x-python",
   "name": "python",
   "nbconvert_exporter": "python",
   "pygments_lexer": "ipython3",
   "version": "3.9.5"
  }
 },
 "nbformat": 4,
 "nbformat_minor": 2
}
