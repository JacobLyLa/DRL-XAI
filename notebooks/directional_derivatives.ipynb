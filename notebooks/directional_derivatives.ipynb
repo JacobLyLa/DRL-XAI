{
 "cells": [
  {
   "cell_type": "code",
   "execution_count": 1,
   "metadata": {},
   "outputs": [
    {
     "name": "stdout",
     "output_type": "stream",
     "text": [
      "/mnt/c/Users/Jacob/Desktop/prosjektoppgave/testing/gymming/src\n"
     ]
    }
   ],
   "source": [
    "%cd ../src/"
   ]
  },
  {
   "cell_type": "code",
   "execution_count": 2,
   "metadata": {},
   "outputs": [],
   "source": [
    "import numpy as np\n",
    "import torch\n",
    "\n",
    "from concepts import concept_instances\n",
    "from train_model import load_model\n",
    "from utils import plot_obs"
   ]
  },
  {
   "cell_type": "code",
   "execution_count": 3,
   "metadata": {},
   "outputs": [],
   "source": [
    "device = torch.device(\"cuda\" if torch.cuda.is_available() else \"cpu\")\n",
    "q_network = load_model(\"../runs/20230901-100931/models/model_5500000.pt\").to(device)"
   ]
  },
  {
   "cell_type": "code",
   "execution_count": 4,
   "metadata": {},
   "outputs": [
    {
     "name": "stdout",
     "output_type": "stream",
     "text": [
      "ball left paddle\n"
     ]
    }
   ],
   "source": [
    "concept = concept_instances[5]\n",
    "print(concept.name)"
   ]
  },
  {
   "cell_type": "code",
   "execution_count": 5,
   "metadata": {},
   "outputs": [
    {
     "name": "stdout",
     "output_type": "stream",
     "text": [
      "torch.Size([1, 5184])\n"
     ]
    },
    {
     "data": {
      "text/plain": [
       "<torch.utils.hooks.RemovableHandle at 0x7fc793082050>"
      ]
     },
     "execution_count": 5,
     "metadata": {},
     "output_type": "execute_result"
    }
   ],
   "source": [
    "layer = 3\n",
    "cav = concept.load_cav(layer)\n",
    "cav = torch.from_numpy(cav).unsqueeze(0).to(device)\n",
    "print(cav.shape) # note CAV is flattened...\n",
    "\n",
    "def forward_hook_fn(m, i, o):\n",
    "    global activation\n",
    "    activation = o\n",
    "\n",
    "def backward_hook_fn(m, i, o):\n",
    "    global gradient_input, gradient_output\n",
    "    gradient_input = i[0]\n",
    "    gradient_output = o[0]\n",
    "        \n",
    "q_network.network[layer].register_forward_hook(forward_hook_fn)\n",
    "q_network.network[layer].register_backward_hook(backward_hook_fn)"
   ]
  },
  {
   "cell_type": "code",
   "execution_count": 6,
   "metadata": {},
   "outputs": [
    {
     "name": "stdout",
     "output_type": "stream",
     "text": [
      "torch.Size([1, 4, 84, 84])\n"
     ]
    },
    {
     "data": {
      "image/png": "[encoded data removed]",
      "text/plain": [
       "<Figure size 640x480 with 1 Axes>"
      ]
     },
     "metadata": {},
     "output_type": "display_data"
    }
   ],
   "source": [
    "example = concept.get_presence_observations()[0]\n",
    "example = torch.from_numpy(example).unsqueeze(0).to(device).float()\n",
    "print(example.shape)\n",
    "plot_obs(example)"
   ]
  },
  {
   "cell_type": "code",
   "execution_count": 7,
   "metadata": {},
   "outputs": [],
   "source": [
    "q_network(example)\n",
    "cav = cav.reshape(activation.shape) # need to reshape CAV to match activation shape\n",
    "cav = cav / torch.norm(cav)"
   ]
  },
  {
   "cell_type": "markdown",
   "metadata": {},
   "source": [
    "### Finite difference to get CAV importance for each action"
   ]
  },
  {
   "cell_type": "code",
   "execution_count": 8,
   "metadata": {},
   "outputs": [
    {
     "name": "stdout",
     "output_type": "stream",
     "text": [
      "tensor([[4.6027, 4.5793, 4.4404, 4.6226]], device='cuda:0')\n",
      "tensor([[4.6026, 4.5792, 4.4404, 4.6225]], device='cuda:0')\n",
      "tensor([[-0.0806, -0.0753,  0.0014, -0.0873]], device='cuda:0')\n",
      "tensor(-0.2418, device='cuda:0')\n"
     ]
    }
   ],
   "source": [
    "h = 1e-3\n",
    "\n",
    "# positive cav direction (forward fd)\n",
    "with torch.no_grad():\n",
    "    # normal forward of example\n",
    "    o0 = q_network(example)\n",
    "    perturb = h * cav\n",
    "    # perturb example activations\n",
    "    activation1 = activation.clone() + perturb\n",
    "    # forward of perturbed activations\n",
    "    o1 = q_network.network[layer + 1:](activation1)\n",
    "    diff = (o1 - o0) / h\n",
    "    print(o0)\n",
    "    print(o1)\n",
    "    print(diff)\n",
    "    print(diff.sum())"
   ]
  },
  {
   "cell_type": "markdown",
   "metadata": {},
   "source": [
    "### autograd CAV importance (doesnt look correct...)"
   ]
  },
  {
   "cell_type": "code",
   "execution_count": 9,
   "metadata": {},
   "outputs": [],
   "source": [
    "cav_ = np.reshape(cav.detach().cpu().numpy(), -1)"
   ]
  },
  {
   "cell_type": "code",
   "execution_count": 10,
   "metadata": {},
   "outputs": [
    {
     "name": "stdout",
     "output_type": "stream",
     "text": [
      "tensor([[4.6027, 4.5793, 4.4404, 4.6226]], device='cuda:0',\n",
      "       grad_fn=<AddmmBackward0>)\n",
      "-0.0113541335\n"
     ]
    }
   ],
   "source": [
    "o0 = q_network(example)\n",
    "print(o0)\n",
    "o0.backward(torch.ones_like(o0))\n",
    "grad = np.reshape(gradient_input.detach().cpu().numpy(), -1)\n",
    "print(np.dot(grad, cav_))"
   ]
  },
  {
   "cell_type": "code",
   "execution_count": 11,
   "metadata": {},
   "outputs": [
    {
     "name": "stdout",
     "output_type": "stream",
     "text": [
      "tensor([[4.6027, 4.5793, 4.4404, 4.6226]], device='cuda:0',\n",
      "       grad_fn=<AddmmBackward0>)\n",
      "-0.10607363\n",
      "-0.103174336\n",
      "-0.10388821\n",
      "-0.098189816\n",
      "-0.10283149965107441\n"
     ]
    }
   ],
   "source": [
    "s = 0\n",
    "\n",
    "o0 = q_network(example)\n",
    "print(o0)\n",
    "o0[0][0].backward(retain_graph=True)\n",
    "grad = np.reshape(gradient_output.detach().cpu().numpy(), -1)\n",
    "print(np.dot(grad, cav_))\n",
    "s += np.dot(grad, cav_)\n",
    "\n",
    "o0 = q_network(example)\n",
    "o0[0][1].backward(retain_graph=True)\n",
    "grad = np.reshape(gradient_output.detach().cpu().numpy(), -1)\n",
    "print(np.dot(grad, cav_))\n",
    "s += np.dot(grad, cav_)\n",
    "\n",
    "o0 = q_network(example)\n",
    "o0[0][2].backward(retain_graph=True)\n",
    "grad = np.reshape(gradient_output.detach().cpu().numpy(), -1)\n",
    "print(np.dot(grad, cav_))\n",
    "s += np.dot(grad, cav_)\n",
    "\n",
    "o0 = q_network(example)\n",
    "o0[0][3].backward(retain_graph=True)\n",
    "grad = np.reshape(gradient_output.detach().cpu().numpy(), -1)\n",
    "print(np.dot(grad, cav_))\n",
    "s += np.dot(grad, cav_)\n",
    "\n",
    "print(s/4)"
   ]
  },
  {
   "cell_type": "markdown",
   "metadata": {},
   "source": [
    "### CAV importance using direction"
   ]
  },
  {
   "cell_type": "code",
   "execution_count": 12,
   "metadata": {},
   "outputs": [
    {
     "name": "stdout",
     "output_type": "stream",
     "text": [
      "[0.09 0.08 0.1  0.08]\n"
     ]
    }
   ],
   "source": [
    "h = 1e-6\n",
    "perturb = h * cav\n",
    "counter = [0] * 4\n",
    "examples = concept.get_presence_observations()\n",
    "total = len(examples)\n",
    "#examples = concept.get_absence_observations()\n",
    "with torch.no_grad():\n",
    "    for example in examples:\n",
    "        example = torch.from_numpy(example).unsqueeze(0).to(device).float()\n",
    "        # normal forward of example\n",
    "        o0 = q_network(example)\n",
    "        # perturb example activations\n",
    "        activation1 = activation.clone() + perturb\n",
    "        # forward of perturbed activations\n",
    "        o1 = q_network.network[layer + 1:](activation1)\n",
    "        diff = (o1 - o0) / h\n",
    "        for i in range(4):\n",
    "            if diff[0][i] > 0:\n",
    "                counter[i] += 1\n",
    "\n",
    "counter = np.array(counter)\n",
    "print(counter / total)"
   ]
  }
 ],
 "metadata": {
  "kernelspec": {
   "display_name": "Python 3",
   "language": "python",
   "name": "python3"
  },
  "language_info": {
   "codemirror_mode": {
    "name": "ipython",
    "version": 3
   },
   "file_extension": ".py",
   "mimetype": "text/x-python",
   "name": "python",
   "nbconvert_exporter": "python",
   "pygments_lexer": "ipython3",
   "version": "3.11.4"
  },
  "orig_nbformat": 4
 },
 "nbformat": 4,
 "nbformat_minor": 2
}
