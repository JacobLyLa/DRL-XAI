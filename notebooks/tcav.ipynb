{
 "cells": [
  {
   "cell_type": "code",
   "execution_count": 1,
   "metadata": {},
   "outputs": [
    {
     "name": "stdout",
     "output_type": "stream",
     "text": [
      "/mnt/c/Users/Jacob/Desktop/prosjektoppgave/tcav_atari/src\n"
     ]
    }
   ],
   "source": [
    "%cd ../src/"
   ]
  },
  {
   "cell_type": "code",
   "execution_count": 2,
   "metadata": {},
   "outputs": [],
   "source": [
    "import warnings\n",
    "\n",
    "import matplotlib.pyplot as plt\n",
    "import numpy as np\n",
    "import torch\n",
    "from sklearn import linear_model\n",
    "from sklearn.exceptions import ConvergenceWarning\n",
    "from sklearn.metrics import accuracy_score, r2_score\n",
    "from sklearn.model_selection import KFold, train_test_split\n",
    "\n",
    "from concepts import concept_instances\n",
    "from utils import load_data, prepare_folders, load_q_network_device"
   ]
  },
  {
   "cell_type": "code",
   "execution_count": 3,
   "metadata": {},
   "outputs": [],
   "source": [
    "warnings.filterwarnings('ignore', category=ConvergenceWarning)"
   ]
  },
  {
   "cell_type": "code",
   "execution_count": 4,
   "metadata": {},
   "outputs": [
    {
     "name": "stdout",
     "output_type": "stream",
     "text": [
      "Concept: ball left paddle (b), dataset size: 6138\n",
      "ball left paddle (b)\n"
     ]
    }
   ],
   "source": [
    "data = load_data()\n",
    "concept = concept_instances[\"ball left paddle (b)\"]\n",
    "q_network, device = load_q_network_device()\n",
    "layer = 5\n",
    "print(concept.name)"
   ]
  },
  {
   "cell_type": "code",
   "execution_count": 5,
   "metadata": {},
   "outputs": [],
   "source": [
    "def calculate_r2(train_acts, train_values, test_acts, test_values):\n",
    "    reg = linear_model.LassoCV(max_iter=50, cv=5, n_alphas=5)\n",
    "    reg.fit(train_acts, train_values)\n",
    "    pred = reg.predict(test_acts)\n",
    "    score = r2_score(test_values, pred)\n",
    "    return reg, score"
   ]
  },
  {
   "cell_type": "code",
   "execution_count": 6,
   "metadata": {},
   "outputs": [],
   "source": [
    "def calculate_accuracy(train_acts, train_values, test_acts, test_values):\n",
    "    reg = linear_model.LogisticRegressionCV(max_iter=100, cv=10, Cs=10)\n",
    "    reg.fit(train_acts, train_values)\n",
    "    pred = reg.predict(test_acts)\n",
    "    score = accuracy_score(test_values, pred)\n",
    "    return reg, 2*score-1"
   ]
  },
  {
   "cell_type": "code",
   "execution_count": 12,
   "metadata": {},
   "outputs": [],
   "source": [
    "concept_q_impact = {}"
   ]
  },
  {
   "cell_type": "code",
   "execution_count": 13,
   "metadata": {},
   "outputs": [
    {
     "name": "stdout",
     "output_type": "stream",
     "text": [
      "random (b)\n",
      "Concept: random (b), dataset size: 7538\n",
      "0.0026525198938991412\n",
      "How often q improves: 0.09748010337352753\n",
      "None: 0.10013262182474136\n",
      "Fire: 0.10212201625108719\n",
      "Right: 0.09084880352020264\n",
      "Left: 0.09217506647109985\n",
      "all lives (b)\n",
      "Concept: all lives (b), dataset size: 3236\n",
      "1.0\n",
      "How often q improves: 0.007716049440205097\n",
      "None: 0.009259259328246117\n",
      "Fire: 0.006172839552164078\n",
      "Right: 0.013888888992369175\n",
      "Left: 0.006172839552164078\n",
      "last life (b)\n",
      "Concept: last life (b), dataset size: 2566\n",
      "1.0\n",
      "How often q improves: 0.2976653575897217\n",
      "None: 0.29182878136634827\n",
      "Fire: 0.287937730550766\n",
      "Right: 0.2684824764728546\n",
      "Left: 0.28988325595855713\n",
      "reward (b)\n",
      "Concept: reward (b), dataset size: 1350\n",
      "0.8962962962962964\n",
      "How often q improves: 0.5370370149612427\n",
      "None: 0.5185185074806213\n",
      "Fire: 0.5185185074806213\n",
      "Right: 0.529629647731781\n",
      "Left: 0.5148147940635681\n",
      "ball collision (b)\n",
      "Concept: ball collision (b), dataset size: 6024\n",
      "0.8205980066445182\n",
      "How often q improves: 0.5348837375640869\n",
      "None: 0.5307309031486511\n",
      "Fire: 0.5365448594093323\n",
      "Right: 0.5016611218452454\n",
      "Left: 0.49501660466194153\n",
      "ball low (b)\n",
      "Concept: ball low (b), dataset size: 5892\n",
      "0.9660441426146009\n",
      "How often q improves: 0.10865874588489532\n",
      "None: 0.10780984908342361\n",
      "Fire: 0.1069609522819519\n",
      "Right: 0.10016977787017822\n",
      "Left: 0.09677419811487198\n",
      "ball left paddle (b)\n",
      "Concept: ball left paddle (b), dataset size: 6138\n",
      "0.8273615635179152\n",
      "How often q improves: 0.5741041898727417\n",
      "None: 0.5936481952667236\n",
      "Fire: 0.5952768325805664\n",
      "Right: 0.25244298577308655\n",
      "Left: 0.7141693830490112\n",
      "ball right paddle (b)\n",
      "Concept: ball right paddle (b), dataset size: 5952\n",
      "0.8352941176470587\n",
      "How often q improves: 0.646218478679657\n",
      "None: 0.6210083961486816\n",
      "Fire: 0.6226890683174133\n",
      "Right: 0.924369752407074\n",
      "Left: 0.4756302535533905\n",
      "ball same x paddle (b)\n",
      "Concept: ball same x paddle (b), dataset size: 3620\n",
      "0.632596685082873\n",
      "How often q improves: 0.9447514414787292\n",
      "None: 0.9516574740409851\n",
      "Fire: 0.950276255607605\n",
      "Right: 0.9378453493118286\n",
      "Left: 0.9323204755783081\n",
      "ball distance paddle\n"
     ]
    },
    {
     "ename": "ValueError",
     "evalue": "Unknown label type: continuous. Maybe you are trying to fit a classifier, which expects discrete classes on a regression target with continuous values.",
     "output_type": "error",
     "traceback": [
      "\u001b[0;31m---------------------------------------------------------------------------\u001b[0m",
      "\u001b[0;31mValueError\u001b[0m                                Traceback (most recent call last)",
      "\u001b[1;32m/mnt/c/Users/Jacob/Desktop/prosjektoppgave/tcav_atari/notebooks/tcav.ipynb Cell 8\u001b[0m line \u001b[0;36m1\n\u001b[1;32m      <a href='vscode-notebook-cell://wsl%2Bubuntu/mnt/c/Users/Jacob/Desktop/prosjektoppgave/tcav_atari/notebooks/tcav.ipynb#W6sdnNjb2RlLXJlbW90ZQ%3D%3D?line=8'>9</a>\u001b[0m train_acts \u001b[39m=\u001b[39m train_acts\u001b[39m.\u001b[39mreshape(\u001b[39mlen\u001b[39m(train_acts), \u001b[39m-\u001b[39m\u001b[39m1\u001b[39m)\n\u001b[1;32m     <a href='vscode-notebook-cell://wsl%2Bubuntu/mnt/c/Users/Jacob/Desktop/prosjektoppgave/tcav_atari/notebooks/tcav.ipynb#W6sdnNjb2RlLXJlbW90ZQ%3D%3D?line=9'>10</a>\u001b[0m test_acts \u001b[39m=\u001b[39m test_acts\u001b[39m.\u001b[39mreshape(\u001b[39mlen\u001b[39m(test_acts), \u001b[39m-\u001b[39m\u001b[39m1\u001b[39m)\n\u001b[0;32m---> <a href='vscode-notebook-cell://wsl%2Bubuntu/mnt/c/Users/Jacob/Desktop/prosjektoppgave/tcav_atari/notebooks/tcav.ipynb#W6sdnNjb2RlLXJlbW90ZQ%3D%3D?line=11'>12</a>\u001b[0m reg, score \u001b[39m=\u001b[39m calculate_accuracy(train_acts, concept\u001b[39m.\u001b[39;49mvalues_train, test_acts, concept\u001b[39m.\u001b[39;49mvalues_test)\n\u001b[1;32m     <a href='vscode-notebook-cell://wsl%2Bubuntu/mnt/c/Users/Jacob/Desktop/prosjektoppgave/tcav_atari/notebooks/tcav.ipynb#W6sdnNjb2RlLXJlbW90ZQ%3D%3D?line=12'>13</a>\u001b[0m \u001b[39mprint\u001b[39m(score)\n\u001b[1;32m     <a href='vscode-notebook-cell://wsl%2Bubuntu/mnt/c/Users/Jacob/Desktop/prosjektoppgave/tcav_atari/notebooks/tcav.ipynb#W6sdnNjb2RlLXJlbW90ZQ%3D%3D?line=13'>14</a>\u001b[0m cav \u001b[39m=\u001b[39m reg\u001b[39m.\u001b[39mcoef_[\u001b[39m0\u001b[39m]\n",
      "\u001b[1;32m/mnt/c/Users/Jacob/Desktop/prosjektoppgave/tcav_atari/notebooks/tcav.ipynb Cell 8\u001b[0m line \u001b[0;36m3\n\u001b[1;32m      <a href='vscode-notebook-cell://wsl%2Bubuntu/mnt/c/Users/Jacob/Desktop/prosjektoppgave/tcav_atari/notebooks/tcav.ipynb#W6sdnNjb2RlLXJlbW90ZQ%3D%3D?line=0'>1</a>\u001b[0m \u001b[39mdef\u001b[39;00m \u001b[39mcalculate_accuracy\u001b[39m(train_acts, train_values, test_acts, test_values):\n\u001b[1;32m      <a href='vscode-notebook-cell://wsl%2Bubuntu/mnt/c/Users/Jacob/Desktop/prosjektoppgave/tcav_atari/notebooks/tcav.ipynb#W6sdnNjb2RlLXJlbW90ZQ%3D%3D?line=1'>2</a>\u001b[0m     reg \u001b[39m=\u001b[39m linear_model\u001b[39m.\u001b[39mLogisticRegressionCV(max_iter\u001b[39m=\u001b[39m\u001b[39m100\u001b[39m, cv\u001b[39m=\u001b[39m\u001b[39m10\u001b[39m, Cs\u001b[39m=\u001b[39m\u001b[39m10\u001b[39m)\n\u001b[0;32m----> <a href='vscode-notebook-cell://wsl%2Bubuntu/mnt/c/Users/Jacob/Desktop/prosjektoppgave/tcav_atari/notebooks/tcav.ipynb#W6sdnNjb2RlLXJlbW90ZQ%3D%3D?line=2'>3</a>\u001b[0m     reg\u001b[39m.\u001b[39;49mfit(train_acts, train_values)\n\u001b[1;32m      <a href='vscode-notebook-cell://wsl%2Bubuntu/mnt/c/Users/Jacob/Desktop/prosjektoppgave/tcav_atari/notebooks/tcav.ipynb#W6sdnNjb2RlLXJlbW90ZQ%3D%3D?line=3'>4</a>\u001b[0m     pred \u001b[39m=\u001b[39m reg\u001b[39m.\u001b[39mpredict(test_acts)\n\u001b[1;32m      <a href='vscode-notebook-cell://wsl%2Bubuntu/mnt/c/Users/Jacob/Desktop/prosjektoppgave/tcav_atari/notebooks/tcav.ipynb#W6sdnNjb2RlLXJlbW90ZQ%3D%3D?line=4'>5</a>\u001b[0m     score \u001b[39m=\u001b[39m accuracy_score(test_values, pred)\n",
      "File \u001b[0;32m/mnt/c/Users/Jacob/Desktop/prosjektoppgave/tcav_atari/.conda/lib/python3.11/site-packages/sklearn/base.py:1151\u001b[0m, in \u001b[0;36m_fit_context.<locals>.decorator.<locals>.wrapper\u001b[0;34m(estimator, *args, **kwargs)\u001b[0m\n\u001b[1;32m   1144\u001b[0m     estimator\u001b[39m.\u001b[39m_validate_params()\n\u001b[1;32m   1146\u001b[0m \u001b[39mwith\u001b[39;00m config_context(\n\u001b[1;32m   1147\u001b[0m     skip_parameter_validation\u001b[39m=\u001b[39m(\n\u001b[1;32m   1148\u001b[0m         prefer_skip_nested_validation \u001b[39mor\u001b[39;00m global_skip_validation\n\u001b[1;32m   1149\u001b[0m     )\n\u001b[1;32m   1150\u001b[0m ):\n\u001b[0;32m-> 1151\u001b[0m     \u001b[39mreturn\u001b[39;00m fit_method(estimator, \u001b[39m*\u001b[39;49margs, \u001b[39m*\u001b[39;49m\u001b[39m*\u001b[39;49mkwargs)\n",
      "File \u001b[0;32m/mnt/c/Users/Jacob/Desktop/prosjektoppgave/tcav_atari/.conda/lib/python3.11/site-packages/sklearn/linear_model/_logistic.py:1809\u001b[0m, in \u001b[0;36mLogisticRegressionCV.fit\u001b[0;34m(self, X, y, sample_weight)\u001b[0m\n\u001b[1;32m   1799\u001b[0m     l1_ratios_ \u001b[39m=\u001b[39m [\u001b[39mNone\u001b[39;00m]\n\u001b[1;32m   1801\u001b[0m X, y \u001b[39m=\u001b[39m \u001b[39mself\u001b[39m\u001b[39m.\u001b[39m_validate_data(\n\u001b[1;32m   1802\u001b[0m     X,\n\u001b[1;32m   1803\u001b[0m     y,\n\u001b[0;32m   (...)\u001b[0m\n\u001b[1;32m   1807\u001b[0m     accept_large_sparse\u001b[39m=\u001b[39msolver \u001b[39mnot\u001b[39;00m \u001b[39min\u001b[39;00m [\u001b[39m\"\u001b[39m\u001b[39mliblinear\u001b[39m\u001b[39m\"\u001b[39m, \u001b[39m\"\u001b[39m\u001b[39msag\u001b[39m\u001b[39m\"\u001b[39m, \u001b[39m\"\u001b[39m\u001b[39msaga\u001b[39m\u001b[39m\"\u001b[39m],\n\u001b[1;32m   1808\u001b[0m )\n\u001b[0;32m-> 1809\u001b[0m check_classification_targets(y)\n\u001b[1;32m   1811\u001b[0m class_weight \u001b[39m=\u001b[39m \u001b[39mself\u001b[39m\u001b[39m.\u001b[39mclass_weight\n\u001b[1;32m   1813\u001b[0m \u001b[39m# Encode for string labels\u001b[39;00m\n",
      "File \u001b[0;32m/mnt/c/Users/Jacob/Desktop/prosjektoppgave/tcav_atari/.conda/lib/python3.11/site-packages/sklearn/utils/multiclass.py:215\u001b[0m, in \u001b[0;36mcheck_classification_targets\u001b[0;34m(y)\u001b[0m\n\u001b[1;32m    207\u001b[0m y_type \u001b[39m=\u001b[39m type_of_target(y, input_name\u001b[39m=\u001b[39m\u001b[39m\"\u001b[39m\u001b[39my\u001b[39m\u001b[39m\"\u001b[39m)\n\u001b[1;32m    208\u001b[0m \u001b[39mif\u001b[39;00m y_type \u001b[39mnot\u001b[39;00m \u001b[39min\u001b[39;00m [\n\u001b[1;32m    209\u001b[0m     \u001b[39m\"\u001b[39m\u001b[39mbinary\u001b[39m\u001b[39m\"\u001b[39m,\n\u001b[1;32m    210\u001b[0m     \u001b[39m\"\u001b[39m\u001b[39mmulticlass\u001b[39m\u001b[39m\"\u001b[39m,\n\u001b[0;32m   (...)\u001b[0m\n\u001b[1;32m    213\u001b[0m     \u001b[39m\"\u001b[39m\u001b[39mmultilabel-sequences\u001b[39m\u001b[39m\"\u001b[39m,\n\u001b[1;32m    214\u001b[0m ]:\n\u001b[0;32m--> 215\u001b[0m     \u001b[39mraise\u001b[39;00m \u001b[39mValueError\u001b[39;00m(\n\u001b[1;32m    216\u001b[0m         \u001b[39mf\u001b[39m\u001b[39m\"\u001b[39m\u001b[39mUnknown label type: \u001b[39m\u001b[39m{\u001b[39;00my_type\u001b[39m}\u001b[39;00m\u001b[39m. Maybe you are trying to fit a \u001b[39m\u001b[39m\"\u001b[39m\n\u001b[1;32m    217\u001b[0m         \u001b[39m\"\u001b[39m\u001b[39mclassifier, which expects discrete classes on a \u001b[39m\u001b[39m\"\u001b[39m\n\u001b[1;32m    218\u001b[0m         \u001b[39m\"\u001b[39m\u001b[39mregression target with continuous values.\u001b[39m\u001b[39m\"\u001b[39m\n\u001b[1;32m    219\u001b[0m     )\n",
      "\u001b[0;31mValueError\u001b[0m: Unknown label type: continuous. Maybe you are trying to fit a classifier, which expects discrete classes on a regression target with continuous values."
     ]
    }
   ],
   "source": [
    "for concept in concept_instances.values():\n",
    "    print(concept.name)\n",
    "    concept.prepare_data(data)\n",
    "    _, train_acts_dict = q_network(torch.tensor(concept.train_obs).to(device), return_acts=True)\n",
    "    test_q_values, test_acts_dict = q_network(torch.tensor(concept.test_obs).to(device), return_acts=True)\n",
    "\n",
    "    train_acts = train_acts_dict[str(layer)].cpu().detach().numpy()\n",
    "    test_acts = test_acts_dict[str(layer)].cpu().detach().numpy()\n",
    "    train_acts = train_acts.reshape(len(train_acts), -1)\n",
    "    test_acts = test_acts.reshape(len(test_acts), -1)\n",
    "\n",
    "    reg, score = calculate_accuracy(train_acts, concept.train_values, test_acts, concept.test_values)\n",
    "    print(score)\n",
    "    cav = reg.coef_[0]\n",
    "    # pertubate a tiny bit of cav and see how q values change\n",
    "    test_acts_changed = torch.tensor(test_acts + (0.0001 * cav), dtype=torch.float32).to(device)\n",
    "    test_acts_changed = test_acts_changed.reshape(test_acts_dict[str(layer)].shape)\n",
    "    # forward activations from given layer\n",
    "    test_q_values_changed = q_network.network[layer + 1:](test_acts_changed)\n",
    "    # how often does max increase?\n",
    "    q_values_diff = test_q_values_changed - test_q_values\n",
    "    max_diff = test_q_values_changed.max(dim=1)[0] - test_q_values.max(dim=1)[0]\n",
    "    improvements = sum(max_diff > 0) / len(max_diff)\n",
    "    print(f\"How often q improves: {improvements.item()}\")\n",
    "    concept_q_impact[concept.name] = improvements.item()\n",
    "    # How often does the q value for each action increase?\n",
    "    improvement_counter = {i: sum(q > 0 for q in q_values_diff[:, i]) for i in range(4)}\n",
    "\n",
    "    actions = ['None', 'Fire', 'Right', 'Left']\n",
    "    for i, action in enumerate(actions):\n",
    "        print(f\"{action}: {improvement_counter[i] / len(q_values_diff)}\")"
   ]
  }
 ],
 "metadata": {
  "kernelspec": {
   "display_name": "Python 3",
   "language": "python",
   "name": "python3"
  },
  "language_info": {
   "codemirror_mode": {
    "name": "ipython",
    "version": 3
   },
   "file_extension": ".py",
   "mimetype": "text/x-python",
   "name": "python",
   "nbconvert_exporter": "python",
   "pygments_lexer": "ipython3",
   "version": "3.11.4"
  },
  "orig_nbformat": 4
 },
 "nbformat": 4,
 "nbformat_minor": 2
}
