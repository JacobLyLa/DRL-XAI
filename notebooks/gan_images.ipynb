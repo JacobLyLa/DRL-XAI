{
 "cells": [
  {
   "cell_type": "code",
   "execution_count": 1,
   "metadata": {},
   "outputs": [
    {
     "name": "stdout",
     "output_type": "stream",
     "text": [
      "/mnt/c/Users/Jacob/Desktop/prosjektoppgave/tcav_atari/src\n"
     ]
    }
   ],
   "source": [
    "import sys\n",
    "sys.path.insert(0, '../src')"
   ]
  },
  {
   "cell_type": "code",
   "execution_count": 2,
   "metadata": {},
   "outputs": [
    {
     "ename": "ModuleNotFoundError",
     "evalue": "No module named 'matplotlib'",
     "output_type": "error",
     "traceback": [
      "\u001b[0;31m---------------------------------------------------------------------------\u001b[0m",
      "\u001b[0;31mModuleNotFoundError\u001b[0m                       Traceback (most recent call last)",
      "\u001b[1;32m/mnt/c/Users/Jacob/Desktop/prosjektoppgave/tcav_atari/notebooks/gan_images.ipynb Cell 2\u001b[0m line \u001b[0;36m3\n\u001b[1;32m      <a href='vscode-notebook-cell://wsl%2Bubuntu/mnt/c/Users/Jacob/Desktop/prosjektoppgave/tcav_atari/notebooks/gan_images.ipynb#W1sdnNjb2RlLXJlbW90ZQ%3D%3D?line=0'>1</a>\u001b[0m \u001b[39mimport\u001b[39;00m \u001b[39mos\u001b[39;00m\n\u001b[0;32m----> <a href='vscode-notebook-cell://wsl%2Bubuntu/mnt/c/Users/Jacob/Desktop/prosjektoppgave/tcav_atari/notebooks/gan_images.ipynb#W1sdnNjb2RlLXJlbW90ZQ%3D%3D?line=2'>3</a>\u001b[0m \u001b[39mimport\u001b[39;00m \u001b[39mmatplotlib\u001b[39;00m\u001b[39m.\u001b[39;00m\u001b[39mpyplot\u001b[39;00m \u001b[39mas\u001b[39;00m \u001b[39mplt\u001b[39;00m\n\u001b[1;32m      <a href='vscode-notebook-cell://wsl%2Bubuntu/mnt/c/Users/Jacob/Desktop/prosjektoppgave/tcav_atari/notebooks/gan_images.ipynb#W1sdnNjb2RlLXJlbW90ZQ%3D%3D?line=3'>4</a>\u001b[0m \u001b[39mimport\u001b[39;00m \u001b[39mnumpy\u001b[39;00m \u001b[39mas\u001b[39;00m \u001b[39mnp\u001b[39;00m\n\u001b[1;32m      <a href='vscode-notebook-cell://wsl%2Bubuntu/mnt/c/Users/Jacob/Desktop/prosjektoppgave/tcav_atari/notebooks/gan_images.ipynb#W1sdnNjb2RlLXJlbW90ZQ%3D%3D?line=4'>5</a>\u001b[0m \u001b[39mimport\u001b[39;00m \u001b[39mtorch\u001b[39;00m\n",
      "\u001b[0;31mModuleNotFoundError\u001b[0m: No module named 'matplotlib'"
     ]
    }
   ],
   "source": [
    "import os\n",
    "\n",
    "import matplotlib.pyplot as plt\n",
    "import numpy as np\n",
    "import torch\n",
    "import torch.nn as nn\n",
    "import torch.optim as optim\n",
    "from sklearn.metrics import accuracy_score, r2_score\n",
    "from sklearn.model_selection import KFold\n",
    "from torch.utils.data import DataLoader, TensorDataset\n",
    "from torchvision import transforms\n",
    "\n",
    "from concepts import concept_instances\n",
    "from utils import load_game_data"
   ]
  },
  {
   "cell_type": "code",
   "execution_count": 4,
   "metadata": {},
   "outputs": [],
   "source": [
    "game_data = load_game_data()\n",
    "concept = concept_instances['ball right paddle (b)']\n",
    "concept.prepare_data(data)\n",
    "device = torch.device(\"cuda\" if torch.cuda.is_available() else \"cpu\")"
   ]
  },
  {
   "cell_type": "code",
   "execution_count": 6,
   "metadata": {},
   "outputs": [],
   "source": [
    "class Generator(nn.Module):\n",
    "    def __init__(self):\n",
    "        super(Generator, self).__init__()\n",
    "\n",
    "        self.main = nn.Sequential(\n",
    "            # Input is (batch_size, 100, 1, 1)\n",
    "            nn.ConvTranspose2d(100, 512, 4, 1, 0, bias=False),\n",
    "            nn.BatchNorm2d(512),\n",
    "            nn.ReLU(),\n",
    "            # State size: (batch_size, 512, 4, 4)\n",
    "            \n",
    "            nn.ConvTranspose2d(512, 256, 4, 2, 1, bias=False),\n",
    "            nn.BatchNorm2d(256),\n",
    "            nn.ReLU(),\n",
    "            # State size: (batch_size, 256, 8, 8)\n",
    "            \n",
    "            nn.ConvTranspose2d(256, 128, 4, 2, 1, bias=False),\n",
    "            nn.BatchNorm2d(128),\n",
    "            nn.ReLU(),\n",
    "            # State size: (batch_size, 128, 16, 16)\n",
    "            \n",
    "            nn.ConvTranspose2d(128, 64, 4, 2, 1, bias=False),\n",
    "            nn.BatchNorm2d(64),\n",
    "            nn.ReLU(),\n",
    "            # State size: (batch_size, 64, 32, 32)\n",
    "            \n",
    "            nn.ConvTranspose2d(64, 32, 4, 2, 1, bias=False),\n",
    "            nn.BatchNorm2d(32),\n",
    "            nn.ReLU(),\n",
    "            # State size: (batch_size, 32, 64, 64)\n",
    "\n",
    "            nn.ConvTranspose2d(32, 16, 4, 2, 1, bias=False),\n",
    "            nn.BatchNorm2d(16),\n",
    "            nn.ReLU(),\n",
    "            # State size: (batch_size, 16, 128, 128)\n",
    "\n",
    "            nn.ConvTranspose2d(16, 3, 1, 1, 0, bias=False),  # Adjusted to have 3 output channels\n",
    "            nn.Tanh()  # Tanh activation function is commonly used for generator's output layer in GANs\n",
    "        )\n",
    "\n",
    "    def forward(self, input):\n",
    "        return self.main(input)  # Scaling to 255 is not necessary if you use Tanh and normalize the images to [-1, 1]\n",
    "\n",
    "class Discriminator(nn.Module):\n",
    "    def __init__(self):\n",
    "        super(Discriminator, self).__init__()\n",
    "        self.main = nn.Sequential(\n",
    "            nn.Conv2d(3, 32, 4, stride=2, padding=1),  # Adjusted for 3 input channels\n",
    "            nn.LeakyReLU(0.2, inplace=True),\n",
    "            nn.Conv2d(32, 64, 4, stride=2, padding=1),\n",
    "            nn.BatchNorm2d(64),\n",
    "            nn.LeakyReLU(0.2, inplace=True),\n",
    "            nn.Conv2d(64, 128, 4, stride=2, padding=1),\n",
    "            nn.BatchNorm2d(128),\n",
    "            nn.LeakyReLU(0.2, inplace=True),\n",
    "            nn.Conv2d(128, 256, 4, stride=2, padding=1),\n",
    "            nn.BatchNorm2d(256),\n",
    "            nn.LeakyReLU(0.2, inplace=True),\n",
    "            nn.Flatten(),\n",
    "            nn.Linear(256 * 8 * 8, 1),  # Adjusted the linear layer to match the flattened dimensions\n",
    "            nn.Sigmoid(),\n",
    "        )\n",
    "\n",
    "    def forward(self, input):\n",
    "        output = self.main(input)\n",
    "        return output.view(-1)  # this flattens the output tensor"
   ]
  },
  {
   "cell_type": "code",
   "execution_count": 7,
   "metadata": {},
   "outputs": [
    {
     "data": {
      "text/plain": [
       "(3694, 210, 160, 3)"
      ]
     },
     "execution_count": 7,
     "metadata": {},
     "output_type": "execute_result"
    }
   ],
   "source": [
    "concept.train_images.shape"
   ]
  },
  {
   "cell_type": "code",
   "execution_count": 8,
   "metadata": {},
   "outputs": [],
   "source": [
    "# Convert images to tensors\n",
    "tensor_train_images = torch.stack([transforms.ToTensor()(img) for img in concept.train_images]).float().to(device)\n",
    "tensor_test_images = torch.stack([transforms.ToTensor()(img) for img in concept.test_images]).float().to(device)\n",
    "\n",
    "# Compute mean and std dynamically\n",
    "mean_train = torch.mean(tensor_train_images, dim=(0, 2, 3))\n",
    "std_train = torch.std(tensor_train_images, dim=(0, 2, 3))\n",
    "\n",
    "# Apply normalization dynamically\n",
    "transform = transforms.Compose([\n",
    "    transforms.ToPILImage(),  # Convert to PIL Image\n",
    "    transforms.Resize((128, 128)),  # Resize image\n",
    "    transforms.ToTensor(),  # Convert back to tensor\n",
    "    #transforms.Normalize(mean_train.tolist(), std_train.tolist())  # Normalize image\n",
    "])\n",
    "\n",
    "obs_train_transformed = torch.stack([transform(img) for img in concept.train_images]).float().to(device)\n",
    "obs_test_transformed = torch.stack([transform(img) for img in concept.test_images]).float().to(device)\n",
    "\n",
    "# Convert to a dataset\n",
    "obs_dataset = TensorDataset(obs_train_transformed)\n",
    "\n",
    "# Create a DataLoader from the dataset\n",
    "batch_size = 256  # Set your desired batch size\n",
    "obs_loader = DataLoader(obs_dataset, batch_size=batch_size, shuffle=True)\n",
    "\n",
    "# Initialize models (assumed that Generator and Discriminator are already defined)\n",
    "netG = Generator().to(device)\n",
    "netD = Discriminator().to(device)\n",
    "\n",
    "# Set up loss and optimizers\n",
    "criterion = nn.BCELoss()\n",
    "optimizerD = optim.Adam(netD.parameters(), lr=0.0001, betas=(0.5, 0.999))\n",
    "optimizerG = optim.Adam(netG.parameters(), lr=0.0001, betas=(0.5, 0.999))"
   ]
  },
  {
   "cell_type": "code",
   "execution_count": 9,
   "metadata": {},
   "outputs": [
    {
     "data": {
      "text/plain": [
       "tensor([0.1707, 0.1497, 0.1252], device='cuda:0')"
      ]
     },
     "execution_count": 9,
     "metadata": {},
     "output_type": "execute_result"
    }
   ],
   "source": [
    "mean_train"
   ]
  },
  {
   "cell_type": "code",
   "execution_count": 10,
   "metadata": {},
   "outputs": [
    {
     "data": {
      "text/plain": [
       "torch.Size([3694, 3, 128, 128])"
      ]
     },
     "execution_count": 10,
     "metadata": {},
     "output_type": "execute_result"
    }
   ],
   "source": [
    "obs_train_transformed.shape"
   ]
  },
  {
   "cell_type": "code",
   "execution_count": 11,
   "metadata": {},
   "outputs": [
    {
     "data": {
      "text/plain": [
       "<matplotlib.image.AxesImage at 0x7f1055431cd0>"
      ]
     },
     "execution_count": 11,
     "metadata": {},
     "output_type": "execute_result"
    },
    {
     "data": {
      "image/png": "[encoded data removed]",
      "text/plain": [
       "<Figure size 640x480 with 1 Axes>"
      ]
     },
     "metadata": {},
     "output_type": "display_data"
    }
   ],
   "source": [
    "plt.imshow(obs_train_transformed[0].cpu().permute(1, 2, 0))"
   ]
  },
  {
   "cell_type": "code",
   "execution_count": 12,
   "metadata": {},
   "outputs": [
    {
     "name": "stderr",
     "output_type": "stream",
     "text": [
      "Clipping input data to the valid range for imshow with RGB data ([0..1] for floats or [0..255] for integers).\n"
     ]
    },
    {
     "name": "stdout",
     "output_type": "stream",
     "text": [
      "[1]\tLoss_D: 1.2118\tLoss_G: 1.0477\tD(x): 0.6637\tD(G(z)): 0.5421/0.3603\n",
      "[2]\tLoss_D: 0.3130\tLoss_G: 3.2500\tD(x): 0.9569\tD(G(z)): 0.2338/0.0402\n",
      "[3]\tLoss_D: 0.1423\tLoss_G: 4.0425\tD(x): 0.9789\tD(G(z)): 0.1135/0.0180\n",
      "[4]\tLoss_D: 0.0877\tLoss_G: 4.3392\tD(x): 0.9841\tD(G(z)): 0.0689/0.0132\n",
      "[5]\tLoss_D: 0.0617\tLoss_G: 4.5277\tD(x): 0.9873\tD(G(z)): 0.0476/0.0110\n",
      "[6]\tLoss_D: 0.0496\tLoss_G: 4.5787\tD(x): 0.9904\tD(G(z)): 0.0391/0.0105\n",
      "[7]\tLoss_D: 0.0383\tLoss_G: 4.7353\tD(x): 0.9901\tD(G(z)): 0.0277/0.0090\n",
      "[8]\tLoss_D: 0.0329\tLoss_G: 4.7725\tD(x): 0.9924\tD(G(z)): 0.0249/0.0087\n",
      "[9]\tLoss_D: 0.0364\tLoss_G: 4.7645\tD(x): 0.9918\tD(G(z)): 0.0277/0.0087\n",
      "[10]\tLoss_D: 0.0224\tLoss_G: 5.0357\tD(x): 0.9938\tD(G(z)): 0.0160/0.0066\n"
     ]
    },
    {
     "name": "stderr",
     "output_type": "stream",
     "text": [
      "Clipping input data to the valid range for imshow with RGB data ([0..1] for floats or [0..255] for integers).\n"
     ]
    },
    {
     "name": "stdout",
     "output_type": "stream",
     "text": [
      "[11]\tLoss_D: 0.0196\tLoss_G: 5.0409\tD(x): 0.9955\tD(G(z)): 0.0150/0.0066\n",
      "[12]\tLoss_D: 0.0186\tLoss_G: 5.0532\tD(x): 0.9961\tD(G(z)): 0.0145/0.0065\n",
      "[13]\tLoss_D: 0.0151\tLoss_G: 5.1306\tD(x): 0.9970\tD(G(z)): 0.0120/0.0060\n",
      "[14]\tLoss_D: 0.0147\tLoss_G: 5.2409\tD(x): 0.9967\tD(G(z)): 0.0113/0.0054\n",
      "[15]\tLoss_D: 0.0115\tLoss_G: 5.3938\tD(x): 0.9971\tD(G(z)): 0.0086/0.0046\n",
      "[16]\tLoss_D: 0.0088\tLoss_G: 5.6488\tD(x): 0.9971\tD(G(z)): 0.0059/0.0036\n",
      "[17]\tLoss_D: 0.0090\tLoss_G: 5.5947\tD(x): 0.9977\tD(G(z)): 0.0066/0.0038\n",
      "[18]\tLoss_D: 0.0089\tLoss_G: 5.6176\tD(x): 0.9974\tD(G(z)): 0.0062/0.0037\n",
      "[19]\tLoss_D: 0.0073\tLoss_G: 5.8266\tD(x): 0.9973\tD(G(z)): 0.0046/0.0030\n",
      "[20]\tLoss_D: 0.0064\tLoss_G: 6.0459\tD(x): 0.9971\tD(G(z)): 0.0034/0.0024\n"
     ]
    },
    {
     "name": "stderr",
     "output_type": "stream",
     "text": [
      "Clipping input data to the valid range for imshow with RGB data ([0..1] for floats or [0..255] for integers).\n"
     ]
    },
    {
     "name": "stdout",
     "output_type": "stream",
     "text": [
      "[21]\tLoss_D: 0.0062\tLoss_G: 5.9927\tD(x): 0.9980\tD(G(z)): 0.0042/0.0026\n",
      "[22]\tLoss_D: 0.0044\tLoss_G: 6.3498\tD(x): 0.9980\tD(G(z)): 0.0024/0.0018\n",
      "[23]\tLoss_D: 0.0039\tLoss_G: 6.3418\tD(x): 0.9988\tD(G(z)): 0.0027/0.0018\n",
      "[24]\tLoss_D: 0.0039\tLoss_G: 6.4356\tD(x): 0.9983\tD(G(z)): 0.0022/0.0017\n",
      "[25]\tLoss_D: 0.0039\tLoss_G: 6.3453\tD(x): 0.9988\tD(G(z)): 0.0027/0.0018\n",
      "[26]\tLoss_D: 0.0030\tLoss_G: 6.6971\tD(x): 0.9985\tD(G(z)): 0.0015/0.0013\n",
      "[27]\tLoss_D: 0.0033\tLoss_G: 6.5310\tD(x): 0.9987\tD(G(z)): 0.0020/0.0015\n",
      "[28]\tLoss_D: 0.0034\tLoss_G: 6.5270\tD(x): 0.9991\tD(G(z)): 0.0025/0.0015\n",
      "[29]\tLoss_D: 0.0030\tLoss_G: 6.7204\tD(x): 0.9985\tD(G(z)): 0.0015/0.0013\n",
      "[30]\tLoss_D: 0.0024\tLoss_G: 6.9022\tD(x): 0.9990\tD(G(z)): 0.0014/0.0011\n"
     ]
    },
    {
     "name": "stderr",
     "output_type": "stream",
     "text": [
      "Clipping input data to the valid range for imshow with RGB data ([0..1] for floats or [0..255] for integers).\n"
     ]
    },
    {
     "name": "stdout",
     "output_type": "stream",
     "text": [
      "[31]\tLoss_D: 0.0026\tLoss_G: 6.8238\tD(x): 0.9988\tD(G(z)): 0.0014/0.0011\n",
      "[32]\tLoss_D: 0.0054\tLoss_G: 6.1760\tD(x): 0.9994\tD(G(z)): 0.0048/0.0021\n",
      "[33]\tLoss_D: 0.0030\tLoss_G: 6.8627\tD(x): 0.9992\tD(G(z)): 0.0022/0.0011\n",
      "[34]\tLoss_D: 0.0023\tLoss_G: 6.9319\tD(x): 0.9990\tD(G(z)): 0.0013/0.0010\n",
      "[35]\tLoss_D: 0.0020\tLoss_G: 7.2071\tD(x): 0.9986\tD(G(z)): 0.0006/0.0008\n",
      "[36]\tLoss_D: 0.0015\tLoss_G: 7.2760\tD(x): 0.9993\tD(G(z)): 0.0008/0.0007\n",
      "[37]\tLoss_D: 0.0020\tLoss_G: 7.2094\tD(x): 0.9994\tD(G(z)): 0.0014/0.0008\n",
      "[38]\tLoss_D: 0.0016\tLoss_G: 7.3700\tD(x): 0.9995\tD(G(z)): 0.0011/0.0007\n",
      "[39]\tLoss_D: 0.0016\tLoss_G: 7.3100\tD(x): 0.9992\tD(G(z)): 0.0008/0.0007\n",
      "[40]\tLoss_D: 0.0016\tLoss_G: 7.2697\tD(x): 0.9993\tD(G(z)): 0.0009/0.0007\n"
     ]
    },
    {
     "name": "stderr",
     "output_type": "stream",
     "text": [
      "Clipping input data to the valid range for imshow with RGB data ([0..1] for floats or [0..255] for integers).\n"
     ]
    },
    {
     "name": "stdout",
     "output_type": "stream",
     "text": [
      "[41]\tLoss_D: 0.0010\tLoss_G: 7.7157\tD(x): 0.9995\tD(G(z)): 0.0005/0.0005\n",
      "[42]\tLoss_D: 0.0012\tLoss_G: 7.6779\tD(x): 0.9996\tD(G(z)): 0.0008/0.0005\n",
      "[43]\tLoss_D: 0.0012\tLoss_G: 7.6858\tD(x): 0.9996\tD(G(z)): 0.0008/0.0005\n",
      "[44]\tLoss_D: 0.0010\tLoss_G: 7.6908\tD(x): 0.9995\tD(G(z)): 0.0005/0.0005\n",
      "[45]\tLoss_D: 0.0013\tLoss_G: 7.9923\tD(x): 0.9991\tD(G(z)): 0.0004/0.0004\n",
      "[46]\tLoss_D: 0.0009\tLoss_G: 7.9745\tD(x): 0.9996\tD(G(z)): 0.0005/0.0004\n",
      "[47]\tLoss_D: 0.0009\tLoss_G: 7.7830\tD(x): 0.9994\tD(G(z)): 0.0003/0.0004\n",
      "[48]\tLoss_D: 0.0012\tLoss_G: 8.0507\tD(x): 0.9996\tD(G(z)): 0.0008/0.0003\n",
      "[49]\tLoss_D: 0.3721\tLoss_G: 2.5235\tD(x): 0.9624\tD(G(z)): 0.2836/0.0803\n",
      "[50]\tLoss_D: 0.1333\tLoss_G: 3.2759\tD(x): 0.9411\tD(G(z)): 0.0698/0.0379\n"
     ]
    },
    {
     "name": "stderr",
     "output_type": "stream",
     "text": [
      "Clipping input data to the valid range for imshow with RGB data ([0..1] for floats or [0..255] for integers).\n"
     ]
    },
    {
     "name": "stdout",
     "output_type": "stream",
     "text": [
      "[51]\tLoss_D: 0.0737\tLoss_G: 3.9411\tD(x): 0.9670\tD(G(z)): 0.0392/0.0196\n",
      "[52]\tLoss_D: 0.0534\tLoss_G: 4.1856\tD(x): 0.9746\tD(G(z)): 0.0273/0.0154\n",
      "[53]\tLoss_D: 0.0454\tLoss_G: 4.7056\tD(x): 0.9860\tD(G(z)): 0.0307/0.0092\n",
      "[54]\tLoss_D: 0.0365\tLoss_G: 4.5371\tD(x): 0.9824\tD(G(z)): 0.0185/0.0110\n",
      "[55]\tLoss_D: 0.0260\tLoss_G: 4.9409\tD(x): 0.9867\tD(G(z)): 0.0125/0.0074\n",
      "[56]\tLoss_D: 0.0863\tLoss_G: 4.3109\tD(x): 0.9679\tD(G(z)): 0.0522/0.0134\n",
      "[57]\tLoss_D: 0.1076\tLoss_G: 3.5815\tD(x): 0.9519\tD(G(z)): 0.0566/0.0279\n",
      "[58]\tLoss_D: 0.0734\tLoss_G: 4.1076\tD(x): 0.9682\tD(G(z)): 0.0402/0.0167\n",
      "[59]\tLoss_D: 0.0557\tLoss_G: 4.1962\tD(x): 0.9680\tD(G(z)): 0.0228/0.0156\n",
      "[60]\tLoss_D: 0.0426\tLoss_G: 4.6969\tD(x): 0.9938\tD(G(z)): 0.0357/0.0097\n"
     ]
    },
    {
     "name": "stderr",
     "output_type": "stream",
     "text": [
      "Clipping input data to the valid range for imshow with RGB data ([0..1] for floats or [0..255] for integers).\n"
     ]
    },
    {
     "name": "stdout",
     "output_type": "stream",
     "text": [
      "[61]\tLoss_D: 0.0360\tLoss_G: 4.2633\tD(x): 0.9788\tD(G(z)): 0.0144/0.0149\n",
      "[62]\tLoss_D: 3.9258\tLoss_G: 0.0003\tD(x): 0.0210\tD(G(z)): 0.0000/0.9997\n",
      "[63]\tLoss_D: 0.2182\tLoss_G: 3.2426\tD(x): 0.8936\tD(G(z)): 0.1001/0.0393\n",
      "[64]\tLoss_D: 0.2195\tLoss_G: 7.3811\tD(x): 0.9831\tD(G(z)): 0.1830/0.0006\n",
      "[65]\tLoss_D: 0.1184\tLoss_G: 3.7957\tD(x): 0.9425\tD(G(z)): 0.0574/0.0229\n",
      "[66]\tLoss_D: 0.0861\tLoss_G: 4.6383\tD(x): 0.9682\tD(G(z)): 0.0523/0.0100\n",
      "[67]\tLoss_D: 0.1114\tLoss_G: 3.7060\tD(x): 0.9499\tD(G(z)): 0.0582/0.0250\n",
      "[68]\tLoss_D: 0.0713\tLoss_G: 3.8451\tD(x): 0.9564\tD(G(z)): 0.0262/0.0220\n",
      "[69]\tLoss_D: 0.0609\tLoss_G: 4.1576\tD(x): 0.9663\tD(G(z)): 0.0263/0.0160\n",
      "[70]\tLoss_D: 0.0346\tLoss_G: 5.2897\tD(x): 0.9787\tD(G(z)): 0.0129/0.0053\n"
     ]
    },
    {
     "name": "stderr",
     "output_type": "stream",
     "text": [
      "Clipping input data to the valid range for imshow with RGB data ([0..1] for floats or [0..255] for integers).\n"
     ]
    },
    {
     "name": "stdout",
     "output_type": "stream",
     "text": [
      "[71]\tLoss_D: 0.0281\tLoss_G: 4.9853\tD(x): 0.9815\tD(G(z)): 0.0094/0.0070\n",
      "[72]\tLoss_D: 0.0391\tLoss_G: 4.9434\tD(x): 0.9899\tD(G(z)): 0.0285/0.0073\n",
      "[73]\tLoss_D: 0.2535\tLoss_G: 13.2075\tD(x): 0.9982\tD(G(z)): 0.2216/0.0000\n",
      "[74]\tLoss_D: 0.2970\tLoss_G: 2.5017\tD(x): 0.7799\tD(G(z)): 0.0453/0.0821\n",
      "[75]\tLoss_D: 0.4729\tLoss_G: 8.2207\tD(x): 0.9943\tD(G(z)): 0.3726/0.0003\n",
      "[76]\tLoss_D: 0.2763\tLoss_G: 0.4424\tD(x): 0.7758\tD(G(z)): 0.0205/0.6436\n",
      "[77]\tLoss_D: 0.1653\tLoss_G: 3.4247\tD(x): 0.9346\tD(G(z)): 0.0928/0.0331\n",
      "[78]\tLoss_D: 6.0477\tLoss_G: 3.0148\tD(x): 0.0026\tD(G(z)): 0.0000/0.0499\n",
      "[79]\tLoss_D: 0.0479\tLoss_G: 4.6295\tD(x): 0.9641\tD(G(z)): 0.0112/0.0100\n",
      "[80]\tLoss_D: 0.0521\tLoss_G: 4.3250\tD(x): 0.9622\tD(G(z)): 0.0134/0.0137\n"
     ]
    },
    {
     "name": "stderr",
     "output_type": "stream",
     "text": [
      "Clipping input data to the valid range for imshow with RGB data ([0..1] for floats or [0..255] for integers).\n"
     ]
    },
    {
     "name": "stdout",
     "output_type": "stream",
     "text": [
      "[81]\tLoss_D: 0.0478\tLoss_G: 3.8005\tD(x): 0.9806\tD(G(z)): 0.0277/0.0230\n",
      "[82]\tLoss_D: 0.0563\tLoss_G: 4.3762\tD(x): 0.9657\tD(G(z)): 0.0210/0.0130\n",
      "[83]\tLoss_D: 0.0228\tLoss_G: 4.7494\tD(x): 0.9875\tD(G(z)): 0.0100/0.0091\n",
      "[84]\tLoss_D: 0.0709\tLoss_G: 4.8413\tD(x): 0.9897\tD(G(z)): 0.0586/0.0083\n",
      "[85]\tLoss_D: 0.0213\tLoss_G: 5.3005\tD(x): 0.9835\tD(G(z)): 0.0045/0.0052\n",
      "[86]\tLoss_D: 0.0308\tLoss_G: 4.7926\tD(x): 0.9904\tD(G(z)): 0.0209/0.0086\n",
      "[87]\tLoss_D: 0.0288\tLoss_G: 4.6833\tD(x): 0.9908\tD(G(z)): 0.0193/0.0098\n",
      "[88]\tLoss_D: 0.0216\tLoss_G: 4.8401\tD(x): 0.9843\tD(G(z)): 0.0058/0.0082\n",
      "[89]\tLoss_D: 0.0241\tLoss_G: 4.9222\tD(x): 0.9922\tD(G(z)): 0.0160/0.0076\n",
      "[90]\tLoss_D: 0.0333\tLoss_G: 5.0950\tD(x): 0.9918\tD(G(z)): 0.0248/0.0065\n"
     ]
    },
    {
     "name": "stderr",
     "output_type": "stream",
     "text": [
      "Clipping input data to the valid range for imshow with RGB data ([0..1] for floats or [0..255] for integers).\n"
     ]
    },
    {
     "name": "stdout",
     "output_type": "stream",
     "text": [
      "[91]\tLoss_D: 0.0084\tLoss_G: 5.6154\tD(x): 0.9964\tD(G(z)): 0.0048/0.0038\n",
      "[92]\tLoss_D: 0.0111\tLoss_G: 5.6856\tD(x): 0.9927\tD(G(z)): 0.0038/0.0036\n",
      "[93]\tLoss_D: 0.0116\tLoss_G: 5.9272\tD(x): 0.9919\tD(G(z)): 0.0034/0.0028\n",
      "[94]\tLoss_D: 0.0097\tLoss_G: 5.5631\tD(x): 0.9957\tD(G(z)): 0.0054/0.0042\n",
      "[95]\tLoss_D: 0.0138\tLoss_G: 5.2233\tD(x): 0.9971\tD(G(z)): 0.0108/0.0059\n",
      "[96]\tLoss_D: 0.0105\tLoss_G: 5.8557\tD(x): 0.9946\tD(G(z)): 0.0051/0.0031\n",
      "[97]\tLoss_D: 0.0098\tLoss_G: 6.0516\tD(x): 0.9945\tD(G(z)): 0.0042/0.0028\n",
      "[98]\tLoss_D: 0.0123\tLoss_G: 5.7702\tD(x): 0.9947\tD(G(z)): 0.0070/0.0035\n",
      "[99]\tLoss_D: 0.0093\tLoss_G: 5.6898\tD(x): 0.9978\tD(G(z)): 0.0071/0.0038\n",
      "[100]\tLoss_D: 0.0067\tLoss_G: 5.8141\tD(x): 0.9978\tD(G(z)): 0.0046/0.0033\n"
     ]
    },
    {
     "name": "stderr",
     "output_type": "stream",
     "text": [
      "Clipping input data to the valid range for imshow with RGB data ([0..1] for floats or [0..255] for integers).\n"
     ]
    },
    {
     "name": "stdout",
     "output_type": "stream",
     "text": [
      "[101]\tLoss_D: 0.0103\tLoss_G: 5.5305\tD(x): 0.9985\tD(G(z)): 0.0088/0.0044\n",
      "[102]\tLoss_D: 0.0053\tLoss_G: 6.3838\tD(x): 0.9973\tD(G(z)): 0.0025/0.0019\n",
      "[103]\tLoss_D: 0.0055\tLoss_G: 6.0513\tD(x): 0.9981\tD(G(z)): 0.0036/0.0026\n",
      "[104]\tLoss_D: 0.0058\tLoss_G: 5.8967\tD(x): 0.9983\tD(G(z)): 0.0040/0.0031\n",
      "[105]\tLoss_D: 0.0040\tLoss_G: 6.4603\tD(x): 0.9982\tD(G(z)): 0.0022/0.0017\n",
      "[106]\tLoss_D: 0.0053\tLoss_G: 5.9931\tD(x): 0.9986\tD(G(z)): 0.0040/0.0027\n",
      "[107]\tLoss_D: 0.0063\tLoss_G: 5.7466\tD(x): 0.9986\tD(G(z)): 0.0049/0.0034\n",
      "[108]\tLoss_D: 0.0050\tLoss_G: 5.9681\tD(x): 0.9989\tD(G(z)): 0.0039/0.0029\n",
      "[109]\tLoss_D: 0.0038\tLoss_G: 6.2028\tD(x): 0.9989\tD(G(z)): 0.0027/0.0022\n",
      "[110]\tLoss_D: 0.0054\tLoss_G: 5.8391\tD(x): 0.9990\tD(G(z)): 0.0044/0.0032\n"
     ]
    },
    {
     "name": "stderr",
     "output_type": "stream",
     "text": [
      "Clipping input data to the valid range for imshow with RGB data ([0..1] for floats or [0..255] for integers).\n"
     ]
    },
    {
     "name": "stdout",
     "output_type": "stream",
     "text": [
      "[111]\tLoss_D: 0.0025\tLoss_G: 6.7232\tD(x): 0.9990\tD(G(z)): 0.0015/0.0013\n",
      "[112]\tLoss_D: 0.0030\tLoss_G: 6.5049\tD(x): 0.9990\tD(G(z)): 0.0020/0.0016\n",
      "[113]\tLoss_D: 0.0025\tLoss_G: 6.7656\tD(x): 0.9990\tD(G(z)): 0.0015/0.0012\n",
      "[114]\tLoss_D: 0.0031\tLoss_G: 6.4388\tD(x): 0.9989\tD(G(z)): 0.0020/0.0017\n",
      "[115]\tLoss_D: 0.0027\tLoss_G: 6.6217\tD(x): 0.9991\tD(G(z)): 0.0017/0.0015\n",
      "[116]\tLoss_D: 0.0052\tLoss_G: 5.8553\tD(x): 0.9991\tD(G(z)): 0.0043/0.0031\n",
      "[117]\tLoss_D: 0.0019\tLoss_G: 7.1948\tD(x): 0.9990\tD(G(z)): 0.0009/0.0008\n",
      "[118]\tLoss_D: 0.0049\tLoss_G: 5.9570\tD(x): 0.9990\tD(G(z)): 0.0039/0.0028\n",
      "[119]\tLoss_D: 0.0031\tLoss_G: 6.3884\tD(x): 0.9991\tD(G(z)): 0.0022/0.0018\n",
      "[120]\tLoss_D: 0.0031\tLoss_G: 6.3486\tD(x): 0.9992\tD(G(z)): 0.0023/0.0019\n"
     ]
    },
    {
     "name": "stderr",
     "output_type": "stream",
     "text": [
      "Clipping input data to the valid range for imshow with RGB data ([0..1] for floats or [0..255] for integers).\n"
     ]
    },
    {
     "name": "stdout",
     "output_type": "stream",
     "text": [
      "[121]\tLoss_D: 0.0039\tLoss_G: 6.1554\tD(x): 0.9992\tD(G(z)): 0.0031/0.0023\n",
      "[122]\tLoss_D: 0.0020\tLoss_G: 7.0497\tD(x): 0.9991\tD(G(z)): 0.0011/0.0009\n",
      "[123]\tLoss_D: 0.0033\tLoss_G: 6.3990\tD(x): 0.9991\tD(G(z)): 0.0024/0.0018\n",
      "[124]\tLoss_D: 0.0028\tLoss_G: 6.5216\tD(x): 0.9991\tD(G(z)): 0.0019/0.0016\n",
      "[125]\tLoss_D: 0.0019\tLoss_G: 7.2087\tD(x): 0.9990\tD(G(z)): 0.0009/0.0008\n",
      "[126]\tLoss_D: 0.0027\tLoss_G: 6.6917\tD(x): 0.9992\tD(G(z)): 0.0020/0.0013\n",
      "[127]\tLoss_D: 0.0020\tLoss_G: 6.9628\tD(x): 0.9992\tD(G(z)): 0.0013/0.0010\n",
      "[128]\tLoss_D: 0.0026\tLoss_G: 6.5322\tD(x): 0.9994\tD(G(z)): 0.0020/0.0016\n",
      "[129]\tLoss_D: 0.0018\tLoss_G: 7.3132\tD(x): 0.9991\tD(G(z)): 0.0008/0.0007\n",
      "[130]\tLoss_D: 0.0016\tLoss_G: 7.3872\tD(x): 0.9991\tD(G(z)): 0.0008/0.0007\n"
     ]
    },
    {
     "name": "stderr",
     "output_type": "stream",
     "text": [
      "Clipping input data to the valid range for imshow with RGB data ([0..1] for floats or [0..255] for integers).\n"
     ]
    },
    {
     "name": "stdout",
     "output_type": "stream",
     "text": [
      "[131]\tLoss_D: 0.0027\tLoss_G: 6.4069\tD(x): 0.9994\tD(G(z)): 0.0021/0.0017\n",
      "[132]\tLoss_D: 0.0034\tLoss_G: 6.2991\tD(x): 0.9992\tD(G(z)): 0.0026/0.0019\n",
      "[133]\tLoss_D: 0.0013\tLoss_G: 7.6382\tD(x): 0.9993\tD(G(z)): 0.0006/0.0005\n",
      "[134]\tLoss_D: 0.0009\tLoss_G: 8.6657\tD(x): 0.9993\tD(G(z)): 0.0002/0.0002\n",
      "[135]\tLoss_D: 0.0012\tLoss_G: 7.5207\tD(x): 0.9995\tD(G(z)): 0.0006/0.0006\n",
      "[136]\tLoss_D: 0.0010\tLoss_G: 7.6452\tD(x): 0.9995\tD(G(z)): 0.0006/0.0005\n",
      "[137]\tLoss_D: 0.0008\tLoss_G: 8.6696\tD(x): 0.9994\tD(G(z)): 0.0002/0.0002\n",
      "[138]\tLoss_D: 0.0015\tLoss_G: 7.1457\tD(x): 0.9995\tD(G(z)): 0.0010/0.0008\n",
      "[139]\tLoss_D: 0.0010\tLoss_G: 7.6367\tD(x): 0.9995\tD(G(z)): 0.0006/0.0005\n",
      "[140]\tLoss_D: 0.0007\tLoss_G: 8.1536\tD(x): 0.9997\tD(G(z)): 0.0003/0.0003\n"
     ]
    },
    {
     "name": "stderr",
     "output_type": "stream",
     "text": [
      "Clipping input data to the valid range for imshow with RGB data ([0..1] for floats or [0..255] for integers).\n"
     ]
    },
    {
     "name": "stdout",
     "output_type": "stream",
     "text": [
      "[141]\tLoss_D: 0.0016\tLoss_G: 6.9053\tD(x): 0.9997\tD(G(z)): 0.0012/0.0010\n",
      "[142]\tLoss_D: 0.0009\tLoss_G: 7.6971\tD(x): 0.9996\tD(G(z)): 0.0005/0.0005\n",
      "[143]\tLoss_D: 0.0008\tLoss_G: 7.8794\tD(x): 0.9997\tD(G(z)): 0.0004/0.0004\n",
      "[144]\tLoss_D: 0.0010\tLoss_G: 7.6119\tD(x): 0.9996\tD(G(z)): 0.0006/0.0005\n",
      "[145]\tLoss_D: 0.0006\tLoss_G: 8.1288\tD(x): 0.9997\tD(G(z)): 0.0003/0.0003\n",
      "[146]\tLoss_D: 0.0010\tLoss_G: 7.4637\tD(x): 0.9997\tD(G(z)): 0.0007/0.0006\n",
      "[147]\tLoss_D: 0.0012\tLoss_G: 7.2403\tD(x): 0.9996\tD(G(z)): 0.0008/0.0007\n",
      "[148]\tLoss_D: 0.0006\tLoss_G: 8.4759\tD(x): 0.9997\tD(G(z)): 0.0002/0.0002\n",
      "[149]\tLoss_D: 0.0005\tLoss_G: 8.8149\tD(x): 0.9997\tD(G(z)): 0.0002/0.0002\n",
      "[150]\tLoss_D: 0.0007\tLoss_G: 8.1649\tD(x): 0.9996\tD(G(z)): 0.0003/0.0003\n"
     ]
    },
    {
     "name": "stderr",
     "output_type": "stream",
     "text": [
      "Clipping input data to the valid range for imshow with RGB data ([0..1] for floats or [0..255] for integers).\n"
     ]
    },
    {
     "name": "stdout",
     "output_type": "stream",
     "text": [
      "[151]\tLoss_D: 0.0009\tLoss_G: 7.5724\tD(x): 0.9997\tD(G(z)): 0.0006/0.0005\n",
      "[152]\tLoss_D: 0.0007\tLoss_G: 7.9387\tD(x): 0.9997\tD(G(z)): 0.0004/0.0004\n",
      "[153]\tLoss_D: 0.0005\tLoss_G: 8.7268\tD(x): 0.9997\tD(G(z)): 0.0002/0.0002\n",
      "[154]\tLoss_D: 0.0006\tLoss_G: 7.9583\tD(x): 0.9997\tD(G(z)): 0.0004/0.0004\n",
      "[155]\tLoss_D: 0.0006\tLoss_G: 8.0968\tD(x): 0.9998\tD(G(z)): 0.0003/0.0003\n",
      "[156]\tLoss_D: 0.0005\tLoss_G: 8.5456\tD(x): 0.9997\tD(G(z)): 0.0002/0.0002\n",
      "[157]\tLoss_D: 0.0005\tLoss_G: 8.2989\tD(x): 0.9998\tD(G(z)): 0.0003/0.0003\n",
      "[158]\tLoss_D: 0.0006\tLoss_G: 8.0545\tD(x): 0.9997\tD(G(z)): 0.0003/0.0003\n",
      "[159]\tLoss_D: 0.0003\tLoss_G: 9.4771\tD(x): 0.9997\tD(G(z)): 0.0001/0.0001\n",
      "[160]\tLoss_D: 0.0011\tLoss_G: 7.1562\tD(x): 0.9998\tD(G(z)): 0.0009/0.0008\n"
     ]
    }
   ],
   "source": [
    "num_epochs = 500\n",
    "for epoch in range(num_epochs):\n",
    "    for i, (data,) in enumerate(obs_loader):\n",
    "        # Train Discriminator\n",
    "        netD.zero_grad()\n",
    "        real_data = data.to(device)\n",
    "        batch_size = real_data.size(0)\n",
    "        label = torch.full((batch_size,), 1, dtype=torch.float, device=device)\n",
    "        output = netD(real_data)\n",
    "        errD_real = criterion(output, label)\n",
    "        errD_real.backward()\n",
    "        D_x = output.mean().item()\n",
    "\n",
    "        noise = torch.randn(batch_size, 100, 1, 1, device=device)\n",
    "        fake = netG(noise)\n",
    "        label.fill_(0)\n",
    "        output = netD(fake.detach())\n",
    "        errD_fake = criterion(output, label)\n",
    "        errD_fake.backward()\n",
    "        D_G_z1 = output.mean().item()\n",
    "        errD = errD_real + errD_fake\n",
    "        optimizerD.step()\n",
    "\n",
    "        # Train Generator\n",
    "        netG.zero_grad()\n",
    "        label.fill_(1)\n",
    "        output = netD(fake)\n",
    "        errG = criterion(output, label)\n",
    "        errG.backward()\n",
    "        D_G_z2 = output.mean().item()\n",
    "        optimizerG.step()\n",
    "\n",
    "        # Print statistics\n",
    "        if i % 100 == 0:\n",
    "            print(f'[{epoch + 1}]\\t'\n",
    "                  f'Loss_D: {errD.item():.4f}\\tLoss_G: {errG.item():.4f}\\t'\n",
    "                  f'D(x): {D_x:.4f}\\tD(G(z)): {D_G_z1:.4f}/{D_G_z2:.4f}')\n",
    "\n",
    "            if epoch % 10 == 0:\n",
    "                # Image Reconstruction example\n",
    "                with torch.no_grad():\n",
    "                    noise = torch.randn(1, 100, 1, 1, device=device)\n",
    "                    generated_data = netG(noise).cpu().squeeze().permute(1, 2, 0)\n",
    "                    plt.imshow(generated_data)\n",
    "                    plt.savefig(f'../gan/{epoch}.png')"
   ]
  },
  {
   "cell_type": "code",
   "execution_count": null,
   "metadata": {},
   "outputs": [],
   "source": [
    "with torch.no_grad():\n",
    "    noise = torch.randn(1, 100, 1, 1, device=device)\n",
    "    generated_data = netG(noise).cpu().squeeze().permute(1, 2, 0)"
   ]
  }
 ],
 "metadata": {
  "kernelspec": {
   "display_name": "Python 3",
   "language": "python",
   "name": "python3"
  },
  "language_info": {
   "codemirror_mode": {
    "name": "ipython",
    "version": 3
   },
   "file_extension": ".py",
   "mimetype": "text/x-python",
   "name": "python",
   "nbconvert_exporter": "python",
   "pygments_lexer": "ipython3",
   "version": "3.11.5"
  }
 },
 "nbformat": 4,
 "nbformat_minor": 2
}
