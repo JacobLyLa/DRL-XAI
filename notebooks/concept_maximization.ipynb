{
 "cells": [
  {
   "cell_type": "code",
   "execution_count": 1,
   "metadata": {},
   "outputs": [],
   "source": [
    "import os\n",
    "os.chdir('../')"
   ]
  },
  {
   "cell_type": "code",
   "execution_count": 2,
   "metadata": {},
   "outputs": [],
   "source": [
    "import random\n",
    "\n",
    "import matplotlib.pyplot as plt\n",
    "import matplotlib.ticker as mticker\n",
    "import numpy as np\n",
    "import torch\n",
    "import torch.nn as nn\n",
    "import torch.optim as optim\n",
    "\n",
    "from src.DRL.qnetwork import QNetwork\n",
    "from src.XAI.autoencoder import Autoencoder\n",
    "from src.XAI.concept import Concept\n",
    "from src.XAI.concept_probes import train_probes\n",
    "from src.XAI.concepts import concept_instances\n",
    "from src.XAI.train_probes import get_hyperparams_combinations"
   ]
  },
  {
   "cell_type": "code",
   "execution_count": 3,
   "metadata": {},
   "outputs": [
    {
     "name": "stdout",
     "output_type": "stream",
     "text": [
      "Loaded model: 20240317-112025-10000000\n"
     ]
    }
   ],
   "source": [
    "layer = 5\n",
    "env_steps = Concept.load_concept_data()\n",
    "model_path = QNetwork.find_newest_model()\n",
    "model_path = \"runs/20240317-112025/model_10000000.pt\"\n",
    "model = QNetwork(model_path=model_path)"
   ]
  },
  {
   "cell_type": "code",
   "execution_count": 4,
   "metadata": {},
   "outputs": [],
   "source": [
    "hyperparam_ranges = {\n",
    "    'lr': (0.001,),\n",
    "    'batch_size': (64,),\n",
    "    'lambda_l1': (0.0,),\n",
    "    'patience': (5,),\n",
    "    'epochs': (100,)\n",
    "}\n",
    "hyperparams = get_hyperparams_combinations(hyperparam_ranges)"
   ]
  },
  {
   "cell_type": "code",
   "execution_count": 5,
   "metadata": {},
   "outputs": [],
   "source": [
    "class ModelProbeOptimizer(nn.Module):\n",
    "    def __init__(self, model, probe, probe_layer):\n",
    "        super().__init__()\n",
    "        self.probe = probe\n",
    "        self.probe_layer = probe_layer\n",
    "\n",
    "        # Extract the part of the model up to the target layer\n",
    "        self.model_part = model.network[:probe_layer + 1]\n",
    "\n",
    "    def forward(self, x):\n",
    "        # Change to (batch, channel, width, height)\n",
    "        if x.shape[1] == x.shape[2]:\n",
    "            x = x.permute(0, 3, 1, 2)\n",
    "            \n",
    "        activations = self.model_part(x)\n",
    "\n",
    "        # Forward pass through the probe model\n",
    "        probe_output = self.probe(activations)\n",
    "        return probe_output\n",
    "    \n",
    "    def forward_activations(self, x):\n",
    "        if x.shape[1] == x.shape[2]:\n",
    "            x = x.permute(0, 3, 1, 2)\n",
    "            \n",
    "        activations = self.model_part(x)\n",
    "        return activations\n",
    "    \n",
    "    def forward_probe(self, activations):\n",
    "        probe_output = self.probe(activations)\n",
    "        return probe_output"
   ]
  },
  {
   "cell_type": "code",
   "execution_count": 6,
   "metadata": {},
   "outputs": [],
   "source": [
    "def plot_tensor(tensor):\n",
    "    input_obs = tensor.clone().detach().numpy().squeeze()\n",
    "    img = np.stack([input_obs[:, :, 0], input_obs[:, :, 1], input_obs[:, :, 2]], axis=2)\n",
    "    img /= img.max()\n",
    "    plt.imshow(img)\n",
    "    plt.axis('off')\n",
    "    plt.show()"
   ]
  },
  {
   "cell_type": "code",
   "execution_count": 7,
   "metadata": {},
   "outputs": [],
   "source": [
    "def plot_tensors(tensor1, tensor2):\n",
    "    # Prepare the original tensor for plotting\n",
    "    image1 = tensor1.clone().detach().numpy().squeeze()\n",
    "    image1 = np.stack([image1[:, :, 0], image1[:, :, 1], image1[:, :, 2]], axis=2)\n",
    "    image1 /= image1.max()\n",
    "    \n",
    "    # Prepare the perturbed tensor for plotting\n",
    "    image2 = tensor2.clone().detach().numpy().squeeze()\n",
    "    image2 = np.stack([image2[:, :, 0], image2[:, :, 1], image2[:, :, 2]], axis=2)\n",
    "    image2 /= image2.max()\n",
    "    \n",
    "    fig, axes = plt.subplots(1, 2, figsize=(8, 4))\n",
    "    \n",
    "    axes[0].imshow(image1)\n",
    "    axes[0].axis('off')\n",
    "    \n",
    "    axes[1].imshow(image2)\n",
    "    axes[1].axis('off')\n",
    "    \n",
    "    plt.show()"
   ]
  },
  {
   "cell_type": "code",
   "execution_count": 8,
   "metadata": {},
   "outputs": [
    {
     "name": "stdout",
     "output_type": "stream",
     "text": [
      "Probe: Sequential(\n",
      "  (0): Flatten(start_dim=1, end_dim=-1)\n",
      "  (1): Linear(in_features=3136, out_features=1, bias=True)\n",
      "  (2): Sigmoid()\n",
      "), Score: 0.769\n"
     ]
    }
   ],
   "source": [
    "# Get probe and dataset with a speccific concept\n",
    "concept = concept_instances['visible lava']\n",
    "concept.prepare_data(env_steps)\n",
    "test_obs = torch.tensor(concept.test_obs).float()\n",
    "\n",
    "load = True\n",
    "if load:\n",
    "    probe, score = concept.load_torch_probe()\n",
    "    print(f\"Probe: {probe}, Score: {score}\")\n",
    "else:\n",
    "    layer_probes, layer_info, best_hyperparams = train_probes(model, concept, hyperparams, [layer])\n",
    "    probe = layer_probes[layer]\n",
    "    \n",
    "optimizer_model = ModelProbeOptimizer(model, probe, layer)"
   ]
  },
  {
   "cell_type": "code",
   "execution_count": 9,
   "metadata": {},
   "outputs": [
    {
     "name": "stdout",
     "output_type": "stream",
     "text": [
      "tensor(0., grad_fn=<MinBackward1>) tensor(1., grad_fn=<MaxBackward1>) tensor(0.6891, grad_fn=<MeanBackward0>) torch.Size([1, 84, 84, 3]) torch.float32\n",
      "Initial Prediction: 0.0316\n"
     ]
    },
    {
     "name": "stderr",
     "output_type": "stream",
     "text": [
      "/tmp/ipykernel_21316/3176146861.py:7: UserWarning: To copy construct from a tensor, it is recommended to use sourceTensor.clone().detach() or sourceTensor.clone().detach().requires_grad_(True), rather than torch.tensor(sourceTensor).\n",
      "  input_obs = torch.tensor(test_obs[example_idx * make_absent]).unsqueeze(0).clone() / 255.0\n"
     ]
    },
    {
     "name": "stdout",
     "output_type": "stream",
     "text": [
      "Final Prediction: 0.9778\n"
     ]
    },
    {
     "data": {
      "image/png": "[encoded data removed]",
      "text/plain": [
       "<Figure size 800x400 with 2 Axes>"
      ]
     },
     "metadata": {},
     "output_type": "display_data"
    },
    {
     "name": "stdout",
     "output_type": "stream",
     "text": [
      "tensor([[0.9778]], grad_fn=<SigmoidBackward0>)\n"
     ]
    }
   ],
   "source": [
    "lr = 0.001\n",
    "iterations = 100\n",
    "make_absent = -1 # 1 to make concept present, -1 to make the concept absent\n",
    "example_idx = 1\n",
    "\n",
    "#input_obs = torch.FloatTensor(train_obs.shape[1:]).uniform_(0, 1).unsqueeze(0).requires_grad_(True)\n",
    "input_obs = torch.tensor(test_obs[example_idx * make_absent]).unsqueeze(0).clone() / 255.0\n",
    "original_input_obs = input_obs.clone()\n",
    "input_obs.requires_grad_(True)\n",
    "print(input_obs.min(), input_obs.max(), input_obs.mean(), input_obs.shape, input_obs.dtype)\n",
    "print(f\"Initial Prediction: {optimizer_model(input_obs).item():.4f}\")\n",
    "optimizer = torch.optim.Adam([input_obs], lr=lr)\n",
    "\n",
    "for i in range(iterations):\n",
    "    optimizer.zero_grad()\n",
    "    \n",
    "    prediction = optimizer_model(input_obs)\n",
    "    loss = prediction * make_absent\n",
    "    loss = loss + torch.mean(torch.abs(input_obs - original_input_obs)) * 100\n",
    "\n",
    "    loss.backward()\n",
    "    optimizer.step()\n",
    "    \n",
    "    input_obs.data = input_obs.data.clamp(0, 1)\n",
    "    \n",
    "input_obs.data = input_obs.data.clamp(0, 1)\n",
    "final_prediction = optimizer_model(input_obs)\n",
    "print(f\"Final Prediction: {final_prediction.item():.4f}\")\n",
    "plot_tensors(original_input_obs, input_obs)\n",
    "_, acts_dict = model(input_obs * 255.0, return_acts=True)\n",
    "acts = acts_dict[layer]\n",
    "print(probe(acts))"
   ]
  },
  {
   "cell_type": "code",
   "execution_count": 10,
   "metadata": {},
   "outputs": [
    {
     "name": "stdout",
     "output_type": "stream",
     "text": [
      "Epoch 0/100 | Train Loss: 8.314865779876708 | Val Loss: 3.363935935974121\n",
      "Epoch 1/100 | Train Loss: 2.9178509607315064 | Val Loss: 2.6708812698364257\n",
      "Epoch 2/100 | Train Loss: 2.402124416923523 | Val Loss: 2.185528402709961\n",
      "Epoch 3/100 | Train Loss: 2.080134420967102 | Val Loss: 1.9299442596435548\n",
      "Epoch 4/100 | Train Loss: 1.8521075277328491 | Val Loss: 1.7413957153320312\n",
      "Epoch 5/100 | Train Loss: 1.6707590236663818 | Val Loss: 1.604791485595703\n",
      "Epoch 6/100 | Train Loss: 1.5509149438858032 | Val Loss: 1.4976026458740235\n",
      "Epoch 7/100 | Train Loss: 1.458136032485962 | Val Loss: 1.4328617462158204\n",
      "Epoch 8/100 | Train Loss: 1.3839597303390503 | Val Loss: 1.3510727905273439\n",
      "Epoch 9/100 | Train Loss: 1.3107121317863464 | Val Loss: 1.297616891479492\n",
      "Epoch 10/100 | Train Loss: 1.2561615717887877 | Val Loss: 1.2598867370605469\n",
      "Epoch 11/100 | Train Loss: 1.211535895061493 | Val Loss: 1.2100662422180175\n",
      "Epoch 12/100 | Train Loss: 1.1618869973182677 | Val Loss: 1.171856757736206\n",
      "Epoch 13/100 | Train Loss: 1.1313412434577943 | Val Loss: 1.1673623310089112\n",
      "Epoch 14/100 | Train Loss: 1.1060760528564453 | Val Loss: 1.1179447582244872\n",
      "Epoch 15/100 | Train Loss: 1.0817735019683838 | Val Loss: 1.106921660232544\n",
      "Epoch 16/100 | Train Loss: 1.0624603490829467 | Val Loss: 1.095053452682495\n",
      "Epoch 17/100 | Train Loss: 1.03652058801651 | Val Loss: 1.077039656829834\n",
      "Epoch 18/100 | Train Loss: 1.0151148659706115 | Val Loss: 1.0654270923614502\n",
      "Epoch 19/100 | Train Loss: 1.0102015008926393 | Val Loss: 1.0539267486572266\n",
      "Epoch 20/100 | Train Loss: 0.9894385933876038 | Val Loss: 1.040346382522583\n",
      "Epoch 21/100 | Train Loss: 0.9707782536506653 | Val Loss: 1.0269325881958007\n",
      "Epoch 22/100 | Train Loss: 0.9559721719741822 | Val Loss: 1.014839918899536\n",
      "Epoch 23/100 | Train Loss: 0.9414089941978454 | Val Loss: 0.9847309513092041\n",
      "Epoch 24/100 | Train Loss: 0.9245439525604248 | Val Loss: 0.9987991390228271\n",
      "Epoch 25/100 | Train Loss: 0.9050850147247315 | Val Loss: 0.9711933502197265\n",
      "Epoch 26/100 | Train Loss: 0.889980278301239 | Val Loss: 0.9618231903076172\n",
      "Epoch 27/100 | Train Loss: 0.8808119986534119 | Val Loss: 0.9459206035614014\n",
      "Epoch 28/100 | Train Loss: 0.8677152486801147 | Val Loss: 0.9308410091400147\n",
      "Epoch 29/100 | Train Loss: 0.8578694812774659 | Val Loss: 0.9301576755523682\n",
      "Epoch 30/100 | Train Loss: 0.8447633988380432 | Val Loss: 0.9179195014953613\n",
      "Epoch 31/100 | Train Loss: 0.8309729384422302 | Val Loss: 0.9123683582305908\n",
      "Epoch 32/100 | Train Loss: 0.8256747549057006 | Val Loss: 0.9310856155395508\n",
      "Epoch 33/100 | Train Loss: 0.8190981231689453 | Val Loss: 0.9251085796356201\n",
      "Epoch 34/100 | Train Loss: 0.8119765913963318 | Val Loss: 0.8949475353240967\n",
      "Epoch 35/100 | Train Loss: 0.8005209419250489 | Val Loss: 0.9013519886016845\n",
      "Epoch 36/100 | Train Loss: 0.7956586417198181 | Val Loss: 0.9092871673583984\n",
      "Epoch 37/100 | Train Loss: 0.7917212780952454 | Val Loss: 0.8760599723815918\n",
      "Epoch 38/100 | Train Loss: 0.7789017498016357 | Val Loss: 0.8790760261535645\n",
      "Epoch 39/100 | Train Loss: 0.7723200339317322 | Val Loss: 0.8691205768585205\n",
      "Epoch 40/100 | Train Loss: 0.7684181468963623 | Val Loss: 0.8853433353424073\n",
      "Epoch 41/100 | Train Loss: 0.7629655527114868 | Val Loss: 0.8770468181610107\n",
      "Epoch 42/100 | Train Loss: 0.7589523560523986 | Val Loss: 0.8782774639129639\n",
      "Epoch 43/100 | Train Loss: 0.7499845942497253 | Val Loss: 0.8804430423736572\n",
      "Epoch 44/100 | Train Loss: 0.7476117303848266 | Val Loss: 0.8674946369171143\n",
      "Epoch 45/100 | Train Loss: 0.7396844326019287 | Val Loss: 0.8500752716064454\n",
      "Epoch 46/100 | Train Loss: 0.7382523256301879 | Val Loss: 0.8597253108978271\n",
      "Epoch 47/100 | Train Loss: 0.7332654214859009 | Val Loss: 0.8571819213867188\n",
      "Epoch 48/100 | Train Loss: 0.7272093874931336 | Val Loss: 0.8521144390106201\n",
      "Epoch 49/100 | Train Loss: 0.7223525950431824 | Val Loss: 0.847043688583374\n",
      "Epoch 50/100 | Train Loss: 0.7199948631286621 | Val Loss: 0.8479860107421875\n",
      "Epoch 51/100 | Train Loss: 0.7129693270683288 | Val Loss: 0.8468890789031982\n",
      "Epoch 52/100 | Train Loss: 0.7109611909866334 | Val Loss: 0.8461046176910401\n",
      "Epoch 53/100 | Train Loss: 0.7065676801681519 | Val Loss: 0.8561555126190186\n",
      "Epoch 54/100 | Train Loss: 0.7034477312088012 | Val Loss: 0.8631573047637939\n",
      "Epoch 55/100 | Train Loss: 0.700791563129425 | Val Loss: 0.853121611404419\n",
      "Epoch 56/100 | Train Loss: 0.7009626780509949 | Val Loss: 0.8500084735870361\n",
      "Epoch 57/100 | Train Loss: 0.6996807334899903 | Val Loss: 0.8487700542449951\n",
      "Epoch 58/100 | Train Loss: 0.6887698062896729 | Val Loss: 0.8473148448944092\n",
      "Epoch 00059: reducing learning rate of group 0 to 5.0000e-04.\n",
      "Epoch 59/100 | Train Loss: 0.6486630840301514 | Val Loss: 0.7837636489868164\n",
      "Epoch 60/100 | Train Loss: 0.6270048369407654 | Val Loss: 0.7800338939666748\n",
      "Epoch 61/100 | Train Loss: 0.6177320456981659 | Val Loss: 0.7792777660369873\n",
      "Epoch 62/100 | Train Loss: 0.6122408914089202 | Val Loss: 0.778768567276001\n",
      "Epoch 63/100 | Train Loss: 0.6095078713417054 | Val Loss: 0.7813764549255371\n",
      "Epoch 64/100 | Train Loss: 0.609097417974472 | Val Loss: 0.7876565273284912\n",
      "Epoch 65/100 | Train Loss: 0.6072361927509308 | Val Loss: 0.7837630577087402\n",
      "Epoch 66/100 | Train Loss: 0.604814126253128 | Val Loss: 0.7808629528045654\n",
      "Epoch 67/100 | Train Loss: 0.6024290721893311 | Val Loss: 0.7849301452636719\n",
      "Epoch 68/100 | Train Loss: 0.6011437820434571 | Val Loss: 0.7785676635742188\n",
      "Epoch 69/100 | Train Loss: 0.5981397874832153 | Val Loss: 0.7772170909881592\n",
      "Epoch 70/100 | Train Loss: 0.5971950041770935 | Val Loss: 0.7786892070770264\n",
      "Epoch 71/100 | Train Loss: 0.595360458946228 | Val Loss: 0.7783024528503418\n",
      "Epoch 72/100 | Train Loss: 0.5932604446411133 | Val Loss: 0.779884337234497\n",
      "Epoch 73/100 | Train Loss: 0.5942446570873261 | Val Loss: 0.7781240119934082\n",
      "Epoch 74/100 | Train Loss: 0.5934980217456818 | Val Loss: 0.7806243537902832\n",
      "Epoch 75/100 | Train Loss: 0.5904441090583801 | Val Loss: 0.7804848926544189\n",
      "Epoch 00076: reducing learning rate of group 0 to 2.5000e-04.\n",
      "Epoch 76/100 | Train Loss: 0.5806535517215728 | Val Loss: 0.7587859443664551\n",
      "Epoch 77/100 | Train Loss: 0.5679667321681976 | Val Loss: 0.7554536083221436\n",
      "Epoch 78/100 | Train Loss: 0.5614278734683991 | Val Loss: 0.756827993774414\n",
      "Epoch 79/100 | Train Loss: 0.5572941487312317 | Val Loss: 0.7562274242401124\n",
      "Epoch 80/100 | Train Loss: 0.5545716319561005 | Val Loss: 0.7580335517883301\n",
      "Epoch 81/100 | Train Loss: 0.5528486163139343 | Val Loss: 0.7593035697937012\n",
      "Epoch 82/100 | Train Loss: 0.5515519094467163 | Val Loss: 0.7592475799560547\n",
      "Epoch 83/100 | Train Loss: 0.5502951918125153 | Val Loss: 0.7610593803405762\n",
      "Epoch 00084: reducing learning rate of group 0 to 1.2500e-04.\n",
      "Epoch 84/100 | Train Loss: 0.5510715774059296 | Val Loss: 0.751437105178833\n",
      "Epoch 85/100 | Train Loss: 0.5452589214801788 | Val Loss: 0.7483323291778564\n",
      "Epoch 86/100 | Train Loss: 0.5417295976161957 | Val Loss: 0.747468877029419\n",
      "Epoch 87/100 | Train Loss: 0.5392990787506103 | Val Loss: 0.7476377658843995\n",
      "Epoch 88/100 | Train Loss: 0.5373956150054932 | Val Loss: 0.747961727142334\n",
      "Epoch 89/100 | Train Loss: 0.5357813475131988 | Val Loss: 0.7481059680938721\n",
      "Epoch 90/100 | Train Loss: 0.5344255493164063 | Val Loss: 0.7485880191802978\n",
      "Epoch 91/100 | Train Loss: 0.5332037677764893 | Val Loss: 0.74888217086792\n",
      "Epoch 92/100 | Train Loss: 0.5322015983581543 | Val Loss: 0.7497629344940185\n",
      "Epoch 00093: reducing learning rate of group 0 to 6.2500e-05.\n",
      "Epoch 93/100 | Train Loss: 0.5335395130157471 | Val Loss: 0.7444536125183105\n",
      "Epoch 94/100 | Train Loss: 0.5312670474529266 | Val Loss: 0.7443777530670166\n",
      "Epoch 95/100 | Train Loss: 0.5295651822566986 | Val Loss: 0.744241724395752\n",
      "Epoch 96/100 | Train Loss: 0.5282917525291443 | Val Loss: 0.7443809898376464\n",
      "Epoch 97/100 | Train Loss: 0.5272315176010132 | Val Loss: 0.7443843910217285\n",
      "Epoch 98/100 | Train Loss: 0.5263142004966735 | Val Loss: 0.744512438583374\n",
      "Epoch 99/100 | Train Loss: 0.5255150774002075 | Val Loss: 0.7446302108764649\n"
     ]
    }
   ],
   "source": [
    "device = torch.device('cuda' if torch.cuda.is_available() else 'cpu')\n",
    "train_concept = concept_instances['random continuous']\n",
    "train_concept.prepare_data(env_steps)\n",
    "autoencoder = Autoencoder(latent_dim=32, train_obs=torch.tensor(train_concept.train_obs).float(), test_obs=torch.tensor(train_concept.test_obs).float(), device=device)\n",
    "autoencoder.train_model(num_epochs=100, batch_size=64, learning_rate=0.001)"
   ]
  },
  {
   "cell_type": "code",
   "execution_count": 11,
   "metadata": {},
   "outputs": [
    {
     "data": {
      "image/png": "[encoded data removed]",
      "text/plain": [
       "<Figure size 800x400 with 2 Axes>"
      ]
     },
     "metadata": {},
     "output_type": "display_data"
    }
   ],
   "source": [
    "image = test_obs[random.randint(0,len(test_obs))].unsqueeze(0).to(device)\n",
    "reconstructed_image = autoencoder(image)\n",
    "plot_tensors(image.cpu(), reconstructed_image.cpu())"
   ]
  },
  {
   "cell_type": "markdown",
   "metadata": {},
   "source": [
    "### Concept backprop with decoder"
   ]
  },
  {
   "cell_type": "code",
   "execution_count": 13,
   "metadata": {},
   "outputs": [
    {
     "name": "stderr",
     "output_type": "stream",
     "text": [
      "/tmp/ipykernel_21316/3777700400.py:10: UserWarning: To copy construct from a tensor, it is recommended to use sourceTensor.clone().detach() or sourceTensor.clone().detach().requires_grad_(True), rather than torch.tensor(sourceTensor).\n",
      "  input_obs = torch.tensor(test_obs[example_idx]).unsqueeze(0)\n"
     ]
    },
    {
     "data": {
      "image/png": "[encoded data removed]",
      "text/plain": [
       "<Figure size 800x400 with 2 Axes>"
      ]
     },
     "metadata": {},
     "output_type": "display_data"
    },
    {
     "name": "stdout",
     "output_type": "stream",
     "text": [
      "Initial Prediction: tensor([[0.9869]], device='cuda:0', grad_fn=<SigmoidBackward0>)\n",
      "Final Prediction: tensor([[0.9869]], device='cuda:0', grad_fn=<SigmoidBackward0>)\n",
      "Final Prediction: tensor([[0.9869]], device='cuda:0', grad_fn=<SigmoidBackward0>)\n",
      "Final Prediction: tensor([[0.9869]], device='cuda:0', grad_fn=<SigmoidBackward0>)\n",
      "Final Prediction: tensor([[0.9869]], device='cuda:0', grad_fn=<SigmoidBackward0>)\n",
      "Final Prediction: tensor([[0.9869]], device='cuda:0', grad_fn=<SigmoidBackward0>)\n",
      "Final Prediction: tensor([[0.9869]], device='cuda:0', grad_fn=<SigmoidBackward0>)\n",
      "Final Prediction: tensor([[0.9869]], device='cuda:0', grad_fn=<SigmoidBackward0>)\n",
      "Final Prediction: tensor([[0.9866]], device='cuda:0', grad_fn=<SigmoidBackward0>)\n",
      "Final Prediction: tensor([[0.9847]], device='cuda:0', grad_fn=<SigmoidBackward0>)\n",
      "Final Prediction: tensor([[0.0808]], device='cuda:0', grad_fn=<SigmoidBackward0>)\n",
      "Final Prediction: tensor([[0.0600]], device='cuda:0', grad_fn=<SigmoidBackward0>)\n",
      "Final Prediction: tensor([[0.0433]], device='cuda:0', grad_fn=<SigmoidBackward0>)\n",
      "Successful at Loss Ratio: 2048\n"
     ]
    },
    {
     "data": {
      "image/png": "[encoded data removed]",
      "text/plain": [
       "<Figure size 800x400 with 2 Axes>"
      ]
     },
     "metadata": {},
     "output_type": "display_data"
    }
   ],
   "source": [
    "# Initialize model and device\n",
    "optimizer_model.to(device)\n",
    "iterations = 1000\n",
    "loss_ratio = 1\n",
    "target_concept_value = 0\n",
    "example_idx = 1\n",
    "tolerance = 0.05\n",
    "\n",
    "# Prepare input observation\n",
    "input_obs = torch.tensor(test_obs[example_idx]).unsqueeze(0)\n",
    "input_obs = input_obs.to(device)\n",
    "input_obs_activations = autoencoder.encoder(input_obs).to(device)\n",
    "\n",
    "# Initialize perturbation\n",
    "perturbation = torch.zeros_like(input_obs_activations, requires_grad=True).to(device)\n",
    "decoded = autoencoder.decoder(input_obs_activations + perturbation) / 255.0\n",
    "plot_tensors(input_obs.cpu(), decoded.cpu())\n",
    "initial_prediction = optimizer_model.forward(decoded)\n",
    "print(f\"Initial Prediction: {initial_prediction}\")\n",
    "\n",
    "successful = False\n",
    "start_learning_rate = 0.01\n",
    "best_loss = float('inf')\n",
    "stagnant_steps = 0\n",
    "\n",
    "while not successful and loss_ratio < 10000000:\n",
    "    learning_rate = start_learning_rate\n",
    "    while True:\n",
    "        decoded = autoencoder.decoder(input_obs_activations + perturbation) / 255.0\n",
    "        concept_value_pred = optimizer_model.forward(decoded)\n",
    "        loss1 = torch.norm(concept_value_pred - target_concept_value, p=2)\n",
    "        loss2 = torch.norm(perturbation, p=2)\n",
    "        #loss2 = torch.norm(decoded - input_obs, p=2)\n",
    "        total_loss = loss_ratio * loss1 + loss2\n",
    "        # print(f\"Iteration {i:3d} - Loss1: {loss1:.4f}, Loss2: {loss2:.4f}, Total Loss: {total_loss:.4f}\")\n",
    "\n",
    "        if total_loss < best_loss:\n",
    "            best_loss = total_loss\n",
    "            stagnant_steps = 0\n",
    "        else:\n",
    "            stagnant_steps += 1\n",
    "\n",
    "        if stagnant_steps >= 5:\n",
    "            learning_rate /= 2\n",
    "            stagnant_steps = 0\n",
    "            if learning_rate < 0.000001:\n",
    "                break\n",
    "\n",
    "        total_loss.backward(retain_graph=True)\n",
    "\n",
    "        # Update perturbation\n",
    "        with torch.no_grad():\n",
    "            perturbation -= learning_rate * perturbation.grad\n",
    "            perturbation.grad.zero_()\n",
    "\n",
    "    final_prediction = optimizer_model.forward(decoded)\n",
    "    print(f\"Final Prediction: {final_prediction}\")\n",
    "    #plot_tensors(input_obs.cpu(), decoded.cpu())\n",
    "\n",
    "    if abs(final_prediction - target_concept_value) <= tolerance:\n",
    "        successful = True\n",
    "        print(f\"Successful at Loss Ratio: {loss_ratio}\")\n",
    "        plot_tensors(input_obs.cpu(), decoded.cpu())\n",
    "    else:\n",
    "        loss_ratio *= 2\n",
    "\n",
    "if not successful:\n",
    "    print(\"Failed to reach target concept value.\")"
   ]
  }
 ],
 "metadata": {
  "kernelspec": {
   "display_name": "Python 3",
   "language": "python",
   "name": "python3"
  },
  "language_info": {
   "codemirror_mode": {
    "name": "ipython",
    "version": 3
   },
   "file_extension": ".py",
   "mimetype": "text/x-python",
   "name": "python",
   "nbconvert_exporter": "python",
   "pygments_lexer": "ipython3",
   "version": "3.9.5"
  },
  "orig_nbformat": 4
 },
 "nbformat": 4,
 "nbformat_minor": 2
}
