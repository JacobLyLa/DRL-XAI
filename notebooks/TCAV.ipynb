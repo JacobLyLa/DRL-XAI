{
 "cells": [
  {
   "cell_type": "code",
   "execution_count": 1,
   "metadata": {},
   "outputs": [],
   "source": [
    "import os\n",
    "os.chdir('../')"
   ]
  },
  {
   "cell_type": "code",
   "execution_count": 2,
   "metadata": {},
   "outputs": [],
   "source": [
    "import matplotlib.pyplot as plt\n",
    "import numpy as np\n",
    "import torch\n",
    "import tqdm\n",
    "from scipy import stats\n",
    "\n",
    "from src.DRL.qnetwork import QNetwork\n",
    "from src.XAI.concept import Concept\n",
    "from src.XAI.concept_probes import train_probes\n",
    "from src.XAI.concepts import concept_instances"
   ]
  },
  {
   "cell_type": "code",
   "execution_count": 3,
   "metadata": {},
   "outputs": [],
   "source": [
    "layer = 4\n",
    "env_steps = Concept.load_concept_data()\n",
    "actions = ['NOOP', 'LEFT', 'RIGHT', 'JUMP', 'DODGE']"
   ]
  },
  {
   "cell_type": "code",
   "execution_count": 4,
   "metadata": {},
   "outputs": [
    {
     "name": "stdout",
     "output_type": "stream",
     "text": [
      "Using model: runs/20240224-103820_task_0/model_10000000.pt\n"
     ]
    }
   ],
   "source": [
    "model_path = QNetwork.find_newest_model()\n",
    "model_path = \"runs/20240224-103820_task_0/model_10000000.pt\"\n",
    "model = QNetwork(frame_stacks=1, model_path=model_path)\n",
    "print(f\"Using model: {model_path}\")"
   ]
  },
  {
   "cell_type": "code",
   "execution_count": 5,
   "metadata": {},
   "outputs": [],
   "source": [
    "concept = concept_instances['visible lava']\n",
    "if concept.binary:\n",
    "    concept_random = concept_instances['random binary']\n",
    "else:\n",
    "    concept_random = concept_instances['random continuous']\n",
    "hyperparameters = {'lr': 0.001, 'lambda_l1': 0.0, 'patience': 5, 'epochs': 50, 'batch_size': 256}\n",
    "TCAVs = []\n",
    "TCAVs_random = []"
   ]
  },
  {
   "cell_type": "code",
   "execution_count": 6,
   "metadata": {},
   "outputs": [],
   "source": [
    "def get_tcav_score(concept, env_steps):\n",
    "    concept.prepare_data(env_steps, max_size=1000)\n",
    "    probe, info = train_probes(model, concept, hyperparameters, [layer])\n",
    "    # score = info[layer]['test_score'][-1]\n",
    "    probe = probe[layer]\n",
    "\n",
    "    CAV = probe[1].weight.data.cpu().numpy().squeeze()\n",
    "    CAV = torch.tensor(CAV, dtype=torch.float32)\n",
    "\n",
    "    # Get Q-values and test activations\n",
    "    _, acts_dict = model(torch.tensor(concept.test_obs), return_acts=True)\n",
    "    acts = acts_dict[layer]\n",
    "\n",
    "    # Additional forward pass to get gradients (return_acts=True detaches from graph)\n",
    "    acts.requires_grad_(True)\n",
    "    q_values = model.network[layer + 1:](acts)\n",
    "\n",
    "    # Initialize tensor to store results\n",
    "    directional_derivatives = torch.zeros_like(q_values)\n",
    "\n",
    "    # Compute directional derivatives\n",
    "    for j in range(q_values.shape[1]):\n",
    "        q_values[:, j].backward(torch.ones_like(q_values[:, j]), retain_graph=True)\n",
    "        \n",
    "        # Calculate directional derivative\n",
    "        grads_flat = acts.grad.reshape(acts.shape[0], -1)\n",
    "        directional_derivatives[:, j] = torch.mv(grads_flat, CAV)\n",
    "\n",
    "    acts.grad.zero_()\n",
    "\n",
    "    TCAV = sum(directional_derivatives > 0) / directional_derivatives.shape[0]\n",
    "    return TCAV.cpu().numpy().mean()"
   ]
  },
  {
   "cell_type": "code",
   "execution_count": 7,
   "metadata": {},
   "outputs": [
    {
     "name": "stderr",
     "output_type": "stream",
     "text": [
      "  0%|          | 0/100 [00:00<?, ?it/s]"
     ]
    },
    {
     "name": "stderr",
     "output_type": "stream",
     "text": [
      "100%|██████████| 100/100 [02:41<00:00,  1.62s/it]"
     ]
    },
    {
     "name": "stdout",
     "output_type": "stream",
     "text": [
      "TCAV mean: 0.26276999711990356, std: 0.25341567397117615\n",
      "TCAV random mean: 0.5297600030899048, std: 0.3535346984863281\n"
     ]
    },
    {
     "name": "stderr",
     "output_type": "stream",
     "text": [
      "\n"
     ]
    }
   ],
   "source": [
    "for i in tqdm.tqdm(range(100)):\n",
    "    TCAVs.append(get_tcav_score(concept, env_steps))\n",
    "    TCAVs_random.append(get_tcav_score(concept_random, env_steps))\n",
    "\n",
    "print(f'TCAV mean: {np.mean(TCAVs)}, std: {np.std(TCAVs)}')\n",
    "print(f'TCAV random mean: {np.mean(TCAVs_random)}, std: {np.std(TCAVs_random)}')"
   ]
  },
  {
   "cell_type": "code",
   "execution_count": 8,
   "metadata": {},
   "outputs": [
    {
     "data": {
      "image/png": "[encoded data removed]",
      "text/plain": [
       "<Figure size 640x480 with 1 Axes>"
      ]
     },
     "metadata": {},
     "output_type": "display_data"
    }
   ],
   "source": [
    "plt.hist(TCAVs, alpha=0.5, label=f'{concept.name} TCAVq', color='blue', bins=25)\n",
    "plt.hist(TCAVs_random, alpha=0.5, label=f'{concept_random.name} TCAVq', color='green', bins=25)\n",
    "\n",
    "# Adding labels and legend\n",
    "plt.xlabel('TCAVq')\n",
    "plt.ylabel('Frequency')\n",
    "plt.title(f'TCAV scores for ({concept.name}) and ({concept_random.name})')\n",
    "plt.legend()\n",
    "\n",
    "plt.show()"
   ]
  },
  {
   "cell_type": "code",
   "execution_count": 9,
   "metadata": {},
   "outputs": [
    {
     "name": "stdout",
     "output_type": "stream",
     "text": [
      "t-statistic: -6.107237536969532\n",
      "p-value: 6.122895940754502e-09\n"
     ]
    }
   ],
   "source": [
    "result = stats.ttest_ind(TCAVs, TCAVs_random, equal_var=False)\n",
    "print(f\"t-statistic: {result.statistic}\")\n",
    "print(f\"p-value: {result.pvalue}\")"
   ]
  },
  {
   "cell_type": "markdown",
   "metadata": {},
   "source": [
    "### Relative CAV"
   ]
  },
  {
   "cell_type": "code",
   "execution_count": 10,
   "metadata": {},
   "outputs": [],
   "source": [
    "concept1 = concept_instances['visible bullet']\n",
    "concept2 = concept_instances['visible lava']\n",
    "\n",
    "# Only use steps where either concept is present\n",
    "filtered_steps = []\n",
    "for step in env_steps:\n",
    "    concept1_present = concept1.concept_function(step.state_variables)\n",
    "    concept2_present = concept2.concept_function(step.state_variables)\n",
    "    if (concept1_present or concept2_present) and concept1_present != concept2_present:\n",
    "        filtered_steps.append(step)\n",
    "\n",
    "concept_func = lambda x: concept1.concept_function(x)\n",
    "\n",
    "concept_lava_vs_bullet = Concept('visible lava/bullet', binary=True, concept_function=concept_func)"
   ]
  },
  {
   "cell_type": "code",
   "execution_count": 11,
   "metadata": {},
   "outputs": [
    {
     "data": {
      "text/plain": [
       "0.016999999"
      ]
     },
     "execution_count": 11,
     "metadata": {},
     "output_type": "execute_result"
    }
   ],
   "source": [
    "get_tcav_score(concept_lava_vs_bullet, filtered_steps)"
   ]
  }
 ],
 "metadata": {
  "kernelspec": {
   "display_name": "Python 3",
   "language": "python",
   "name": "python3"
  },
  "language_info": {
   "codemirror_mode": {
    "name": "ipython",
    "version": 3
   },
   "file_extension": ".py",
   "mimetype": "text/x-python",
   "name": "python",
   "nbconvert_exporter": "python",
   "pygments_lexer": "ipython3",
   "version": "3.10.12"
  },
  "orig_nbformat": 4
 },
 "nbformat": 4,
 "nbformat_minor": 2
}
