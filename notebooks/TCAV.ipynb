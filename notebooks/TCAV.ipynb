{
 "cells": [
  {
   "cell_type": "code",
   "execution_count": 1,
   "metadata": {},
   "outputs": [],
   "source": [
    "import os\n",
    "os.chdir('../')"
   ]
  },
  {
   "cell_type": "code",
   "execution_count": 2,
   "metadata": {},
   "outputs": [],
   "source": [
    "import matplotlib.pyplot as plt\n",
    "import matplotlib.ticker as mticker\n",
    "import numpy as np\n",
    "import torch\n",
    "\n",
    "from src.DRL.qnetwork import QNetwork\n",
    "from src.XAI.concept import Concept\n",
    "from src.XAI.concept_probes import train_probes\n",
    "from src.XAI.concepts import concept_instances"
   ]
  },
  {
   "cell_type": "code",
   "execution_count": 3,
   "metadata": {},
   "outputs": [],
   "source": [
    "layer = 4\n",
    "env_steps = Concept.load_concept_data()\n",
    "actions = ['NOOP', 'LEFT', 'RIGHT', 'JUMP', 'DODGE']"
   ]
  },
  {
   "cell_type": "code",
   "execution_count": 4,
   "metadata": {},
   "outputs": [
    {
     "name": "stdout",
     "output_type": "stream",
     "text": [
      "Using model: runs/20240224-103820_task_0/model_10000000.pt\n"
     ]
    }
   ],
   "source": [
    "model_path = QNetwork.find_newest_model()\n",
    "model_path = \"runs/20240224-103820_task_0/model_10000000.pt\"\n",
    "model = QNetwork(frame_stacks=1, model_path=model_path)\n",
    "print(f\"Using model: {model_path}\")"
   ]
  },
  {
   "cell_type": "code",
   "execution_count": 5,
   "metadata": {},
   "outputs": [],
   "source": [
    "concept = concept_instances['visible bullet']\n",
    "hyperparameters = {'lr': 0.001, 'lambda_l1': 0.0, 'patience': 5, 'epochs': 100, 'batch_size': 512}\n",
    "TCAVs = []"
   ]
  },
  {
   "cell_type": "code",
   "execution_count": 6,
   "metadata": {},
   "outputs": [
    {
     "name": "stdout",
     "output_type": "stream",
     "text": [
      "visible bullet: 0.8975282907485962\n",
      "visible bullet: 0.8794450461864471\n",
      "visible bullet: 0.8896147608757019\n",
      "visible bullet: 0.8861799538135529\n",
      "visible bullet: 0.8997844755649567\n",
      "visible bullet: 0.8580953776836395\n",
      "visible bullet: 0.9017039239406586\n",
      "visible bullet: 0.8909617364406586\n",
      "visible bullet: 0.8935883641242981\n",
      "visible bullet: 0.8936893939971924\n",
      "visible bullet: 0.9155778586864471\n",
      "visible bullet: 0.8928475081920624\n",
      "visible bullet: 0.8817349076271057\n",
      "visible bullet: 0.8899178206920624\n",
      "visible bullet: 0.8753367364406586\n",
      "visible bullet: 0.8912648260593414\n",
      "visible bullet: 0.8892106711864471\n",
      "visible bullet: 0.9041621685028076\n",
      "visible bullet: 0.8707906901836395\n",
      "visible bullet: 0.9000202119350433\n"
     ]
    }
   ],
   "source": [
    "for _ in range(20):\n",
    "    concept.prepare_data(env_steps, max_size=10000)\n",
    "    probe, info = train_probes(model, concept, hyperparameters, [layer])\n",
    "    #print(info[layer])\n",
    "    score = info[layer]['test_score'][-1]\n",
    "    probe = probe[layer]\n",
    "    #probe, score = concept.load_torch_probe()\n",
    "    print(f'{concept.name}: {score}')\n",
    "    CAV = probe[1].weight.data.cpu().numpy().squeeze()\n",
    "    CAV = torch.tensor(CAV, dtype=torch.float32)\n",
    "\n",
    "    # Get Q-values and test activations\n",
    "    _, acts_dict = model(torch.tensor(concept.test_obs), return_acts=True)\n",
    "    acts = acts_dict[layer]\n",
    "\n",
    "    # Additional forward pass to get gradients (return_acts=True detaches from graph)\n",
    "    acts.requires_grad_(True)\n",
    "    q_values = model.network[layer + 1:](acts)\n",
    "\n",
    "    # Flatten the activations\n",
    "    acts_flat = acts.reshape(acts.shape[0], -1)\n",
    "\n",
    "    # Initialize tensor to store results\n",
    "    directional_derivatives = torch.zeros_like(q_values)\n",
    "\n",
    "    # Compute directional derivatives\n",
    "    for j in range(q_values.shape[1]):\n",
    "        q_values[:, j].backward(torch.ones_like(q_values[:, j]), retain_graph=True)\n",
    "        \n",
    "        # Calculate directional derivative\n",
    "        grads_flat = acts.grad.reshape(acts.shape[0], -1)\n",
    "        directional_derivatives[:, j] = torch.mv(grads_flat, CAV)\n",
    "\n",
    "        acts.grad.zero_()\n",
    "\n",
    "    TCAV = sum(directional_derivatives > 0) / directional_derivatives.shape[0]\n",
    "    #print(f'TCAV: {TCAV}')\n",
    "    TCAVs.append(TCAV.cpu().numpy().mean())"
   ]
  },
  {
   "cell_type": "code",
   "execution_count": 7,
   "metadata": {},
   "outputs": [
    {
     "data": {
      "image/png": "[encoded data removed]",
      "text/plain": [
       "<Figure size 640x480 with 1 Axes>"
      ]
     },
     "metadata": {},
     "output_type": "display_data"
    }
   ],
   "source": [
    "plt.hist(TCAVs, bins='auto')\n",
    "plt.xlim(0, max(TCAVs))\n",
    "plt.show()"
   ]
  }
 ],
 "metadata": {
  "kernelspec": {
   "display_name": "Python 3",
   "language": "python",
   "name": "python3"
  },
  "language_info": {
   "codemirror_mode": {
    "name": "ipython",
    "version": 3
   },
   "file_extension": ".py",
   "mimetype": "text/x-python",
   "name": "python",
   "nbconvert_exporter": "python",
   "pygments_lexer": "ipython3",
   "version": "3.9.5"
  },
  "orig_nbformat": 4
 },
 "nbformat": 4,
 "nbformat_minor": 2
}
