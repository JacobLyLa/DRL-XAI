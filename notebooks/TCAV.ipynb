{
 "cells": [
  {
   "cell_type": "code",
   "execution_count": 1,
   "metadata": {},
   "outputs": [],
   "source": [
    "import os\n",
    "os.chdir('../')"
   ]
  },
  {
   "cell_type": "code",
   "execution_count": 2,
   "metadata": {},
   "outputs": [],
   "source": [
    "import matplotlib.pyplot as plt\n",
    "import numpy as np\n",
    "import torch\n",
    "import tqdm\n",
    "from scipy import stats\n",
    "\n",
    "from src.DRL.qnetwork import QNetwork\n",
    "from src.XAI.concept import Concept\n",
    "from src.XAI.concept_probes import train_probes\n",
    "from src.XAI.concepts import concept_instances"
   ]
  },
  {
   "cell_type": "code",
   "execution_count": 3,
   "metadata": {},
   "outputs": [],
   "source": [
    "layer = 5\n",
    "env_steps = Concept.load_concept_data()\n",
    "actions = ['NOOP', 'LEFT', 'RIGHT', 'JUMP', 'DODGE']"
   ]
  },
  {
   "cell_type": "code",
   "execution_count": 4,
   "metadata": {},
   "outputs": [
    {
     "name": "stdout",
     "output_type": "stream",
     "text": [
      "Loaded model: 20240317-112025-10000000\n"
     ]
    }
   ],
   "source": [
    "model_path = QNetwork.find_newest_model()\n",
    "model_path = \"runs/20240317-112025/model_10000000.pt\"\n",
    "model = QNetwork(model_path=model_path)"
   ]
  },
  {
   "cell_type": "code",
   "execution_count": 5,
   "metadata": {},
   "outputs": [],
   "source": [
    "concept = concept_instances['good coin left of player']\n",
    "if concept.binary:\n",
    "    concept_random = concept_instances['random binary']\n",
    "else:\n",
    "    concept_random = concept_instances['random continuous']\n",
    "hyperparameters = {'lr': 0.0001, 'lambda_l1': 0.0, 'patience': 10, 'epochs': 100, 'batch_size': 256}\n",
    "TCAVs = []\n",
    "TCAVs_random = []"
   ]
  },
  {
   "cell_type": "code",
   "execution_count": 6,
   "metadata": {},
   "outputs": [],
   "source": [
    "def get_tcav_score(concept, env_steps):\n",
    "    concept.prepare_data(env_steps, max_size=10000)\n",
    "    probe, info = train_probes(model, concept, hyperparameters, [layer])\n",
    "    # score = info[layer]['test_score'][-1]\n",
    "    probe = probe[layer]\n",
    "\n",
    "    CAV = probe[1].weight.data.cpu().numpy().squeeze()\n",
    "    CAV = torch.tensor(CAV, dtype=torch.float32)\n",
    "\n",
    "    # Get Q-values and test activations\n",
    "    _, acts_dict = model(torch.tensor(concept.test_obs), return_acts=True)\n",
    "    acts = acts_dict[layer]\n",
    "\n",
    "    # Additional forward pass to get gradients (return_acts=True detaches from graph)\n",
    "    acts.requires_grad_(True)\n",
    "    q_values = model.network[layer + 1:](acts)\n",
    "\n",
    "    # Initialize tensor to store results\n",
    "    directional_derivatives = torch.zeros_like(q_values)\n",
    "\n",
    "    # Compute directional derivatives\n",
    "    for j in range(q_values.shape[1]):\n",
    "        q_values[:, j].backward(torch.ones_like(q_values[:, j]), retain_graph=True)\n",
    "        \n",
    "        # Calculate directional derivative\n",
    "        grads_flat = acts.grad.reshape(acts.shape[0], -1)\n",
    "        directional_derivatives[:, j] = torch.mv(grads_flat, CAV)\n",
    "\n",
    "    acts.grad.zero_() # Move to end loop!\n",
    "\n",
    "    TCAV = sum(directional_derivatives > 0) / directional_derivatives.shape[0]\n",
    "    return TCAV.cpu().numpy().mean()"
   ]
  },
  {
   "cell_type": "code",
   "execution_count": 7,
   "metadata": {},
   "outputs": [
    {
     "name": "stderr",
     "output_type": "stream",
     "text": [
      "100%|██████████| 50/50 [15:22<00:00, 18.44s/it]"
     ]
    },
    {
     "name": "stdout",
     "output_type": "stream",
     "text": [
      "TCAV mean: 0.6282699704170227, std: 0.06477124243974686\n",
      "TCAV random mean: 0.4735200107097626, std: 0.3634054660797119\n"
     ]
    },
    {
     "name": "stderr",
     "output_type": "stream",
     "text": [
      "\n"
     ]
    }
   ],
   "source": [
    "for i in tqdm.tqdm(range(50)):\n",
    "    TCAVs.append(get_tcav_score(concept, env_steps))\n",
    "    TCAVs_random.append(get_tcav_score(concept_random, env_steps))\n",
    "\n",
    "print(f'TCAV mean: {np.mean(TCAVs)}, std: {np.std(TCAVs)}')\n",
    "print(f'TCAV random mean: {np.mean(TCAVs_random)}, std: {np.std(TCAVs_random)}')"
   ]
  },
  {
   "cell_type": "code",
   "execution_count": 8,
   "metadata": {},
   "outputs": [
    {
     "data": {
      "image/png": "[encoded data removed]",
      "text/plain": [
       "<Figure size 640x480 with 1 Axes>"
      ]
     },
     "metadata": {},
     "output_type": "display_data"
    }
   ],
   "source": [
    "plt.hist(TCAVs, alpha=0.5, label=f'{concept.name} TCAVq', color='blue', bins=25)\n",
    "plt.hist(TCAVs_random, alpha=0.5, label=f'{concept_random.name} TCAVq', color='green', bins=25)\n",
    "\n",
    "# Adding labels and legend\n",
    "plt.xlabel('TCAVq')\n",
    "plt.ylabel('Frequency')\n",
    "plt.title(f'TCAV scores for ({concept.name}) and ({concept_random.name})')\n",
    "plt.legend()\n",
    "\n",
    "plt.show()"
   ]
  },
  {
   "cell_type": "code",
   "execution_count": 9,
   "metadata": {},
   "outputs": [
    {
     "name": "stdout",
     "output_type": "stream",
     "text": [
      "t-statistic: 2.9345818217324173\n",
      "p-value: 0.004957551503931767\n"
     ]
    }
   ],
   "source": [
    "result = stats.ttest_ind(TCAVs, TCAVs_random, equal_var=False)\n",
    "print(f\"t-statistic: {result.statistic}\")\n",
    "print(f\"p-value: {result.pvalue}\")"
   ]
  },
  {
   "cell_type": "markdown",
   "metadata": {},
   "source": [
    "### Relative CAV"
   ]
  },
  {
   "cell_type": "code",
   "execution_count": 17,
   "metadata": {},
   "outputs": [],
   "source": [
    "concept1 = concept_instances['events quantity']\n",
    "concept2 = concept_instances['bad events quantity']\n",
    "\n",
    "# Only use steps where either concept is present\n",
    "filtered_steps = []\n",
    "for step in env_steps:\n",
    "    concept1_present = concept1.concept_function(step.state_variables)\n",
    "    concept2_present = concept2.concept_function(step.state_variables)\n",
    "    if (concept1_present or concept2_present) and concept1_present != concept2_present:\n",
    "        filtered_steps.append(step)\n",
    "\n",
    "concept_func = lambda x: concept1.concept_function(x)\n",
    "relative_concept = Concept(f\"{concept1.name} vs {concept2.name}\", binary=True, concept_function=concept_func)"
   ]
  },
  {
   "cell_type": "code",
   "execution_count": 18,
   "metadata": {},
   "outputs": [
    {
     "ename": "AssertionError",
     "evalue": "[events quantity vs bad events quantity] No samples for one of the classes",
     "output_type": "error",
     "traceback": [
      "\u001b[0;31m---------------------------------------------------------------------------\u001b[0m",
      "\u001b[0;31mAssertionError\u001b[0m                            Traceback (most recent call last)",
      "Cell \u001b[0;32mIn[18], line 1\u001b[0m\n\u001b[0;32m----> 1\u001b[0m \u001b[43mget_tcav_score\u001b[49m\u001b[43m(\u001b[49m\u001b[43mrelative_concept\u001b[49m\u001b[43m,\u001b[49m\u001b[43m \u001b[49m\u001b[43mfiltered_steps\u001b[49m\u001b[43m)\u001b[49m\n",
      "Cell \u001b[0;32mIn[6], line 2\u001b[0m, in \u001b[0;36mget_tcav_score\u001b[0;34m(concept, env_steps)\u001b[0m\n\u001b[1;32m      1\u001b[0m \u001b[38;5;28;01mdef\u001b[39;00m \u001b[38;5;21mget_tcav_score\u001b[39m(concept, env_steps):\n\u001b[0;32m----> 2\u001b[0m     \u001b[43mconcept\u001b[49m\u001b[38;5;241;43m.\u001b[39;49m\u001b[43mprepare_data\u001b[49m\u001b[43m(\u001b[49m\u001b[43menv_steps\u001b[49m\u001b[43m,\u001b[49m\u001b[43m \u001b[49m\u001b[43mmax_size\u001b[49m\u001b[38;5;241;43m=\u001b[39;49m\u001b[38;5;241;43m10000\u001b[39;49m\u001b[43m)\u001b[49m\n\u001b[1;32m      3\u001b[0m     probe, info \u001b[38;5;241m=\u001b[39m train_probes(model, concept, hyperparameters, [layer])\n\u001b[1;32m      4\u001b[0m     \u001b[38;5;66;03m# score = info[layer]['test_score'][-1]\u001b[39;00m\n",
      "File \u001b[0;32m~/DRL-CAV/src/XAI/concept.py:113\u001b[0m, in \u001b[0;36mConcept.prepare_data\u001b[0;34m(self, env_steps, test_ratio, max_size, scale)\u001b[0m\n\u001b[1;32m    111\u001b[0m np\u001b[38;5;241m.\u001b[39mrandom\u001b[38;5;241m.\u001b[39mshuffle(env_steps)\n\u001b[1;32m    112\u001b[0m \u001b[38;5;28;01mif\u001b[39;00m \u001b[38;5;28mself\u001b[39m\u001b[38;5;241m.\u001b[39mbinary:\n\u001b[0;32m--> 113\u001b[0m     train_data, test_data, y_train, y_test \u001b[38;5;241m=\u001b[39m \u001b[38;5;28;43mself\u001b[39;49m\u001b[38;5;241;43m.\u001b[39;49m\u001b[43m_prepare_binary_data\u001b[49m\u001b[43m(\u001b[49m\u001b[43menv_steps\u001b[49m\u001b[43m,\u001b[49m\u001b[43m \u001b[49m\u001b[43mtrain_size\u001b[49m\u001b[43m,\u001b[49m\u001b[43m \u001b[49m\u001b[43mtest_size\u001b[49m\u001b[43m)\u001b[49m\n\u001b[1;32m    114\u001b[0m \u001b[38;5;28;01melse\u001b[39;00m:\n\u001b[1;32m    115\u001b[0m     train_data, test_data, y_train, y_test \u001b[38;5;241m=\u001b[39m \u001b[38;5;28mself\u001b[39m\u001b[38;5;241m.\u001b[39m_prepare_non_binary_data(env_steps, train_size, test_size, scale)\n",
      "File \u001b[0;32m~/DRL-CAV/src/XAI/concept.py:67\u001b[0m, in \u001b[0;36mConcept._prepare_binary_data\u001b[0;34m(self, env_steps, train_size, test_size)\u001b[0m\n\u001b[1;32m     64\u001b[0m     test_size \u001b[38;5;241m=\u001b[39m total_data \u001b[38;5;241m-\u001b[39m train_size\n\u001b[1;32m     66\u001b[0m \u001b[38;5;66;03m# Slice the longer list to make them equal length\u001b[39;00m\n\u001b[0;32m---> 67\u001b[0m \u001b[38;5;28;01massert\u001b[39;00m min_length \u001b[38;5;241m!=\u001b[39m \u001b[38;5;241m0\u001b[39m, \u001b[38;5;124mf\u001b[39m\u001b[38;5;124m\"\u001b[39m\u001b[38;5;124m[\u001b[39m\u001b[38;5;132;01m{\u001b[39;00m\u001b[38;5;28mself\u001b[39m\u001b[38;5;241m.\u001b[39mname\u001b[38;5;132;01m}\u001b[39;00m\u001b[38;5;124m] No samples for one of the classes\u001b[39m\u001b[38;5;124m\"\u001b[39m\n\u001b[1;32m     68\u001b[0m presence \u001b[38;5;241m=\u001b[39m random\u001b[38;5;241m.\u001b[39msample(presence, min_length)\n\u001b[1;32m     69\u001b[0m absence \u001b[38;5;241m=\u001b[39m random\u001b[38;5;241m.\u001b[39msample(absence, min_length)\n",
      "\u001b[0;31mAssertionError\u001b[0m: [events quantity vs bad events quantity] No samples for one of the classes"
     ]
    }
   ],
   "source": [
    "get_tcav_score(relative_concept, filtered_steps)"
   ]
  }
 ],
 "metadata": {
  "kernelspec": {
   "display_name": "Python 3",
   "language": "python",
   "name": "python3"
  },
  "language_info": {
   "codemirror_mode": {
    "name": "ipython",
    "version": 3
   },
   "file_extension": ".py",
   "mimetype": "text/x-python",
   "name": "python",
   "nbconvert_exporter": "python",
   "pygments_lexer": "ipython3",
   "version": "3.9.5"
  },
  "orig_nbformat": 4
 },
 "nbformat": 4,
 "nbformat_minor": 2
}
