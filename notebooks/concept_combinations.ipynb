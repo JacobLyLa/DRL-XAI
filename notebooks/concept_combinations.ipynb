{
 "cells": [
  {
   "cell_type": "code",
   "execution_count": 1,
   "metadata": {},
   "outputs": [],
   "source": [
    "import os\n",
    "os.chdir('../')"
   ]
  },
  {
   "cell_type": "code",
   "execution_count": 2,
   "metadata": {},
   "outputs": [],
   "source": [
    "import matplotlib.pyplot as plt\n",
    "import numpy as np\n",
    "import torch\n",
    "\n",
    "from src.DRL.qnetwork import QNetwork\n",
    "from src.XAI.concept import Concept\n",
    "from src.XAI.concepts import concept_instances"
   ]
  },
  {
   "cell_type": "code",
   "execution_count": 3,
   "metadata": {},
   "outputs": [],
   "source": [
    "def cosine_similarity(v1, v2):\n",
    "    dot_product = np.dot(v1, v2)\n",
    "    norm_v1 = np.linalg.norm(v1)\n",
    "    norm_v2 = np.linalg.norm(v2)\n",
    "    return dot_product / (norm_v1 * norm_v2)"
   ]
  },
  {
   "cell_type": "code",
   "execution_count": 4,
   "metadata": {},
   "outputs": [],
   "source": [
    "env_steps = Concept.load_concept_data()\n",
    "sample_concept = concept_instances['random continuous']\n",
    "sample_concept.prepare_data(env_steps)\n",
    "test_images = sample_concept.test_images\n",
    "test_obs = sample_concept.test_obs"
   ]
  },
  {
   "cell_type": "code",
   "execution_count": 5,
   "metadata": {},
   "outputs": [
    {
     "name": "stdout",
     "output_type": "stream",
     "text": [
      "Loaded model: 20240317-112025-10000000\n"
     ]
    }
   ],
   "source": [
    "#model_path = QNetwork.find_newest_model()\n",
    "model_path = \"runs/20240317-112025/model_10000000.pt\"\n",
    "model = QNetwork(model_path=model_path)\n",
    "layer = 4"
   ]
  },
  {
   "cell_type": "code",
   "execution_count": 6,
   "metadata": {},
   "outputs": [],
   "source": [
    "_, test_acts_dict = model(torch.tensor(test_obs), return_acts=True)\n",
    "test_acts = test_acts_dict[layer].cpu().detach().numpy()\n",
    "test_acts = test_acts.reshape(test_acts.shape[0], -1)"
   ]
  },
  {
   "cell_type": "code",
   "execution_count": 7,
   "metadata": {},
   "outputs": [],
   "source": [
    "class CAV:\n",
    "    def __init__(self, concept_name):\n",
    "        self.name = concept_name\n",
    "        self.concept = concept_instances[concept_name]\n",
    "        self.probe, self.score = self.concept.load_torch_probe()\n",
    "        if self.score > 0.5:\n",
    "            self.coeffs = self.probe[1].weight.data.cpu().numpy().squeeze()\n",
    "            print(f'{concept_name:^40} | {self.score:^20}')"
   ]
  },
  {
   "cell_type": "code",
   "execution_count": 8,
   "metadata": {},
   "outputs": [
    {
     "name": "stdout",
     "output_type": "stream",
     "text": [
      "            total wall area              |        0.759        \n",
      "            player on grass              |         0.98        \n",
      "             player in air               |        0.966        \n",
      "             player dodging              |        0.956        \n",
      "             player on wall              |        0.963        \n",
      "         player dodging on wall          |        0.966        \n",
      "            events quantity              |        0.638        \n",
      "          good events quantity           |        0.774        \n",
      "          bad events quantity            |        0.768        \n",
      "              visible wall               |        0.933        \n",
      "            visible air wall             |        0.887        \n",
      "             visible bullet              |        0.899        \n",
      "              visible lava               |        0.926        \n",
      "           visible blue coin             |        0.883        \n",
      "           visible gold coin             |        0.995        \n",
      "           visible high coin             |        0.936        \n",
      "         visible good low coin           |        0.882        \n",
      "              bullet close               |        0.751        \n",
      "       bullet aligned with player        |         0.82        \n",
      "        good coin left of player         |        0.861        \n"
     ]
    }
   ],
   "source": [
    "CAVs = {concept_name: CAV(concept_name) for concept_name in concept_instances.keys()}"
   ]
  },
  {
   "cell_type": "code",
   "execution_count": 9,
   "metadata": {},
   "outputs": [],
   "source": [
    "# Sort images by activation similarity to CAV\n",
    "def sort(images, acts, cav, best_first=True):\n",
    "    images_acts = list(zip(images, acts))\n",
    "    images_acts.sort(key=lambda x: cosine_similarity(x[1], cav), reverse=best_first)\n",
    "    images, acts = zip(*images_acts)\n",
    "    #for i in range(4):\n",
    "    #    print(round(cosine_similarity(acts[i], cav), 3))\n",
    "    return images"
   ]
  },
  {
   "cell_type": "code",
   "execution_count": 10,
   "metadata": {},
   "outputs": [],
   "source": [
    "def plot_images(images, n, save_name=None):\n",
    "    fig, axes = plt.subplots(2, 2, figsize=(4, 4))\n",
    "    axes = axes.flatten()\n",
    "\n",
    "    for i in range(n):\n",
    "        axes[i].imshow(images[i])\n",
    "        axes[i].axis('off')\n",
    "\n",
    "    plt.tight_layout()\n",
    "    if save_name:\n",
    "        plt.savefig('figures/concept combinations/' + save_name, bbox_inches='tight')\n",
    "    \n",
    "    plt.show()"
   ]
  },
  {
   "cell_type": "code",
   "execution_count": 11,
   "metadata": {},
   "outputs": [],
   "source": [
    "def sort_images(coefficients, best_first, name):\n",
    "    test_images_sorted = sort(test_images, test_acts, coefficients, best_first)\n",
    "    plot_images(test_images_sorted, 4, save_name=f'{name}_sorted.png')"
   ]
  },
  {
   "cell_type": "code",
   "execution_count": 12,
   "metadata": {},
   "outputs": [],
   "source": [
    "def combine_concepts(CAVS, factors, best_first):\n",
    "    assert len(CAVS) == len(factors) and len(CAVS) > 0\n",
    "    combined = CAVS[0].coeffs * factors[0]\n",
    "    combination_str = f'{factors[0]:g}*{CAVS[0].name}'\n",
    "    for i in range(1, len(CAVS)):\n",
    "        factor = factors[i]\n",
    "        if factor >= 0:\n",
    "            combination_str += f' + {factor:g}*{CAVS[i].name}'\n",
    "        else:\n",
    "            combination_str += f' - {-factor:g}*{CAVS[i].name}'\n",
    "        combined += CAVS[i].coeffs * factor\n",
    "    print(combination_str)\n",
    "    sort_images(combined, best_first, name=combination_str)"
   ]
  },
  {
   "cell_type": "code",
   "execution_count": 13,
   "metadata": {},
   "outputs": [
    {
     "name": "stdout",
     "output_type": "stream",
     "text": [
      "1*player dodging + 1*visible bullet\n"
     ]
    },
    {
     "data": {
      "image/png": "[encoded data removed]",
      "text/plain": [
       "<Figure size 400x400 with 4 Axes>"
      ]
     },
     "metadata": {},
     "output_type": "display_data"
    }
   ],
   "source": [
    "combine_concepts([CAVs['player dodging'], CAVs['visible bullet']], [1, 1], True)"
   ]
  },
  {
   "cell_type": "code",
   "execution_count": 14,
   "metadata": {},
   "outputs": [
    {
     "name": "stdout",
     "output_type": "stream",
     "text": [
      "1*visible lava\n"
     ]
    },
    {
     "data": {
      "image/png": "[encoded data removed]",
      "text/plain": [
       "<Figure size 400x400 with 4 Axes>"
      ]
     },
     "metadata": {},
     "output_type": "display_data"
    }
   ],
   "source": [
    "combine_concepts([CAVs['visible lava']], [1], True)"
   ]
  },
  {
   "cell_type": "code",
   "execution_count": 15,
   "metadata": {},
   "outputs": [
    {
     "name": "stdout",
     "output_type": "stream",
     "text": [
      "1*visible lava + 1*visible bullet\n"
     ]
    },
    {
     "data": {
      "image/png": "[encoded data removed]",
      "text/plain": [
       "<Figure size 400x400 with 4 Axes>"
      ]
     },
     "metadata": {},
     "output_type": "display_data"
    }
   ],
   "source": [
    "combine_concepts([CAVs['visible lava'], CAVs['visible bullet']], [1, 1], True)"
   ]
  },
  {
   "cell_type": "code",
   "execution_count": 16,
   "metadata": {},
   "outputs": [
    {
     "name": "stdout",
     "output_type": "stream",
     "text": [
      "1*player on wall - 1*visible bullet - 1*visible lava\n"
     ]
    },
    {
     "data": {
      "image/png": "[encoded data removed]",
      "text/plain": [
       "<Figure size 400x400 with 4 Axes>"
      ]
     },
     "metadata": {},
     "output_type": "display_data"
    }
   ],
   "source": [
    "combine_concepts([CAVs['player on wall'], CAVs['visible bullet'], CAVs['visible lava']], [1, -1, -1], True)"
   ]
  },
  {
   "cell_type": "code",
   "execution_count": 17,
   "metadata": {},
   "outputs": [
    {
     "name": "stdout",
     "output_type": "stream",
     "text": [
      "1*player on wall + 1*player in air\n"
     ]
    },
    {
     "data": {
      "image/png": "[encoded data removed]",
      "text/plain": [
       "<Figure size 400x400 with 4 Axes>"
      ]
     },
     "metadata": {},
     "output_type": "display_data"
    }
   ],
   "source": [
    "combine_concepts([CAVs['player on wall'], CAVs['player in air']], [1, 1], True)"
   ]
  },
  {
   "cell_type": "code",
   "execution_count": 18,
   "metadata": {},
   "outputs": [
    {
     "name": "stdout",
     "output_type": "stream",
     "text": [
      "1*events quantity\n"
     ]
    },
    {
     "data": {
      "image/png": "[encoded data removed]",
      "text/plain": [
       "<Figure size 400x400 with 4 Axes>"
      ]
     },
     "metadata": {},
     "output_type": "display_data"
    }
   ],
   "source": [
    "combine_concepts([CAVs['events quantity']], [1], True)"
   ]
  },
  {
   "cell_type": "code",
   "execution_count": 19,
   "metadata": {},
   "outputs": [
    {
     "name": "stdout",
     "output_type": "stream",
     "text": [
      "1*events quantity - 1*good events quantity\n"
     ]
    },
    {
     "data": {
      "image/png": "[encoded data removed]",
      "text/plain": [
       "<Figure size 400x400 with 4 Axes>"
      ]
     },
     "metadata": {},
     "output_type": "display_data"
    }
   ],
   "source": [
    "combine_concepts([CAVs['events quantity'], CAVs['good events quantity']], [1, -1], True)"
   ]
  },
  {
   "cell_type": "code",
   "execution_count": 20,
   "metadata": {},
   "outputs": [
    {
     "name": "stdout",
     "output_type": "stream",
     "text": [
      "1*visible blue coin\n"
     ]
    },
    {
     "data": {
      "image/png": "[encoded data removed]",
      "text/plain": [
       "<Figure size 400x400 with 4 Axes>"
      ]
     },
     "metadata": {},
     "output_type": "display_data"
    }
   ],
   "source": [
    "combine_concepts([CAVs['visible blue coin']], [1], True)"
   ]
  },
  {
   "cell_type": "code",
   "execution_count": 21,
   "metadata": {},
   "outputs": [
    {
     "name": "stdout",
     "output_type": "stream",
     "text": [
      "1*visible blue coin - 1*visible wall\n"
     ]
    },
    {
     "data": {
      "image/png": "[encoded data removed]",
      "text/plain": [
       "<Figure size 400x400 with 4 Axes>"
      ]
     },
     "metadata": {},
     "output_type": "display_data"
    }
   ],
   "source": [
    "combine_concepts([CAVs['visible blue coin'], CAVs['visible wall']], [1, -1], True)"
   ]
  },
  {
   "cell_type": "code",
   "execution_count": 22,
   "metadata": {},
   "outputs": [
    {
     "name": "stdout",
     "output_type": "stream",
     "text": [
      "1*visible blue coin - 1*visible wall - 1*visible air wall\n"
     ]
    },
    {
     "data": {
      "image/png": "[encoded data removed]",
      "text/plain": [
       "<Figure size 400x400 with 4 Axes>"
      ]
     },
     "metadata": {},
     "output_type": "display_data"
    }
   ],
   "source": [
    "combine_concepts([CAVs['visible blue coin'], CAVs['visible wall'], CAVs['visible air wall']], [1, -1, -1], True)"
   ]
  }
 ],
 "metadata": {
  "kernelspec": {
   "display_name": "Python 3",
   "language": "python",
   "name": "python3"
  },
  "language_info": {
   "codemirror_mode": {
    "name": "ipython",
    "version": 3
   },
   "file_extension": ".py",
   "mimetype": "text/x-python",
   "name": "python",
   "nbconvert_exporter": "python",
   "pygments_lexer": "ipython3",
   "version": "3.9.5"
  }
 },
 "nbformat": 4,
 "nbformat_minor": 2
}
