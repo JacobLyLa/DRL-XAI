{
 "cells": [
  {
   "cell_type": "code",
   "execution_count": 1,
   "metadata": {},
   "outputs": [],
   "source": [
    "import os\n",
    "os.chdir('../')"
   ]
  },
  {
   "cell_type": "code",
   "execution_count": 2,
   "metadata": {},
   "outputs": [],
   "source": [
    "import matplotlib.pyplot as plt\n",
    "import numpy as np\n",
    "import torch\n",
    "\n",
    "from src.DRL.qnetwork import QNetwork\n",
    "from src.XAI.concept import Concept\n",
    "from src.XAI.concepts import concept_instances"
   ]
  },
  {
   "cell_type": "code",
   "execution_count": 3,
   "metadata": {},
   "outputs": [],
   "source": [
    "# TODO: move to utils\n",
    "def cosine_similarity(v1, v2):\n",
    "    dot_product = np.dot(v1, v2)\n",
    "    norm_v1 = np.linalg.norm(v1)\n",
    "    norm_v2 = np.linalg.norm(v2)\n",
    "    return dot_product / (norm_v1 * norm_v2)"
   ]
  },
  {
   "cell_type": "code",
   "execution_count": 4,
   "metadata": {},
   "outputs": [],
   "source": [
    "layer = 4\n",
    "env_steps = Concept.load_concept_data()\n",
    "# Take a concept instance to get sample data\n",
    "# TODO: might want a global dataset so it's not biased\n",
    "sample_concept = concept_instances['player to right']\n",
    "sample_concept.prepare_data(env_steps)\n",
    "test_images = sample_concept.test_images\n",
    "test_obs = sample_concept.test_obs"
   ]
  },
  {
   "cell_type": "code",
   "execution_count": 5,
   "metadata": {},
   "outputs": [
    {
     "name": "stdout",
     "output_type": "stream",
     "text": [
      "Using model: runs/20240128-235322/model_10000000.pt\n"
     ]
    }
   ],
   "source": [
    "model_path = QNetwork.find_newest_model()\n",
    "model = QNetwork(frame_stacks=4, model_path=model_path)\n",
    "print(f\"Using model: {model_path}\")\n",
    "\n",
    "_, test_acts_dict = model(torch.tensor(test_obs), return_acts=True)\n",
    "test_acts = test_acts_dict[layer].cpu().detach().numpy()\n",
    "test_acts = test_acts.reshape(test_acts.shape[0], -1)"
   ]
  },
  {
   "cell_type": "code",
   "execution_count": 6,
   "metadata": {},
   "outputs": [],
   "source": [
    "class CAV:\n",
    "    def __init__(self, concept_name):\n",
    "        self.name = concept_name\n",
    "        self.concept = concept_instances[concept_name]\n",
    "        self.probe, self.score = self.concept.load_torch_probe()\n",
    "        self.coeffs = self.probe[1].weight.data.cpu().numpy().squeeze()\n",
    "        print(f'Concept: {concept_name} | score: {self.score}')"
   ]
  },
  {
   "cell_type": "code",
   "execution_count": 7,
   "metadata": {},
   "outputs": [
    {
     "name": "stdout",
     "output_type": "stream",
     "text": [
      "Concept: player to right | score: 0.881\n",
      "Concept: visible bullet | score: 0.908\n",
      "Concept: lava quantity | score: 0.882\n",
      "Concept: visible wall | score: 0.896\n",
      "Concept: player standing on wall | score: 0.925\n",
      "Concept: player in air | score: 0.965\n",
      "Concept: bullet aligned with player | score: 0.687\n",
      "Concept: events quantity | score: 0.765\n",
      "Concept: good visible events | score: 0.73\n",
      "Concept: bad visible events | score: 0.842\n"
     ]
    }
   ],
   "source": [
    "player_right = CAV('player to right')\n",
    "visible_bullet = CAV('visible bullet')\n",
    "lava_quantity = CAV('lava quantity')\n",
    "visible_wall = CAV('visible wall')\n",
    "player_standing_on_wall = CAV('player standing on wall')\n",
    "player_in_air = CAV('player in air')\n",
    "bullet_aligned = CAV('bullet aligned with player')\n",
    "event_quantity = CAV('events quantity')\n",
    "good_visible_events = CAV('good visible events')\n",
    "bad_visible_events = CAV('bad visible events')"
   ]
  },
  {
   "cell_type": "code",
   "execution_count": 8,
   "metadata": {},
   "outputs": [],
   "source": [
    "# Sort images by activation similarity to CAV\n",
    "def sort(images, acts, cav, best_first=True):\n",
    "    images_acts = list(zip(images, acts))\n",
    "    images_acts.sort(key=lambda x: cosine_similarity(x[1], cav), reverse=best_first)\n",
    "    images, acts = zip(*images_acts)\n",
    "    #for i in range(4):\n",
    "    #    print(round(cosine_similarity(acts[i], cav), 3))\n",
    "    return images"
   ]
  },
  {
   "cell_type": "code",
   "execution_count": 9,
   "metadata": {},
   "outputs": [],
   "source": [
    "def plot_images(images, n, save_name=None):\n",
    "    fig, axes = plt.subplots(2, 2, figsize=(4, 4))\n",
    "    axes = axes.flatten()\n",
    "\n",
    "    for i in range(n):\n",
    "        axes[i].imshow(images[i])\n",
    "        axes[i].axis('off')\n",
    "\n",
    "    plt.tight_layout()\n",
    "    if save_name:\n",
    "        plt.savefig('figures/concept combinations/' + save_name, bbox_inches='tight')\n",
    "    \n",
    "    plt.show()"
   ]
  },
  {
   "cell_type": "code",
   "execution_count": 10,
   "metadata": {},
   "outputs": [],
   "source": [
    "def sort_images(coefficients, best_first, name):\n",
    "    test_images_sorted = sort(test_images, test_acts, coefficients, best_first)\n",
    "    plot_images(test_images_sorted, 4, save_name=f'{name}_sorted.png')"
   ]
  },
  {
   "cell_type": "code",
   "execution_count": 11,
   "metadata": {},
   "outputs": [],
   "source": [
    "def combine_concepts(CAVS, factors, best_first):\n",
    "    assert len(CAVS) == len(factors) and len(CAVS) > 0\n",
    "    combined = CAVS[0].coeffs * factors[0]\n",
    "    combination_str = f'{factors[0]:g}*{CAVS[0].name}'\n",
    "    for i in range(1, len(CAVS)):\n",
    "        factor = factors[i]\n",
    "        if factor >= 0:\n",
    "            combination_str += f' + {factor:g}*{CAVS[i].name}'\n",
    "        else:\n",
    "            combination_str += f' - {-factor:g}*{CAVS[i].name}'\n",
    "        combined += CAVS[i].coeffs * factor\n",
    "    print(combination_str)\n",
    "    sort_images(combined, best_first, name=combination_str)"
   ]
  },
  {
   "cell_type": "code",
   "execution_count": 12,
   "metadata": {},
   "outputs": [
    {
     "name": "stdout",
     "output_type": "stream",
     "text": [
      "1*player to right + 1*visible bullet\n"
     ]
    },
    {
     "data": {
      "image/png": "[encoded data removed]",
      "text/plain": [
       "<Figure size 400x400 with 4 Axes>"
      ]
     },
     "metadata": {},
     "output_type": "display_data"
    }
   ],
   "source": [
    "combine_concepts([player_right, visible_bullet], [1, 1], True)"
   ]
  },
  {
   "cell_type": "code",
   "execution_count": 13,
   "metadata": {},
   "outputs": [
    {
     "name": "stdout",
     "output_type": "stream",
     "text": [
      "1*lava quantity\n"
     ]
    },
    {
     "data": {
      "image/png": "[encoded data removed]",
      "text/plain": [
       "<Figure size 400x400 with 4 Axes>"
      ]
     },
     "metadata": {},
     "output_type": "display_data"
    }
   ],
   "source": [
    "combine_concepts([lava_quantity], [1], True)"
   ]
  },
  {
   "cell_type": "code",
   "execution_count": 14,
   "metadata": {},
   "outputs": [
    {
     "name": "stdout",
     "output_type": "stream",
     "text": [
      "1*lava quantity - 1*visible bullet\n"
     ]
    },
    {
     "data": {
      "image/png": "[encoded data removed]",
      "text/plain": [
       "<Figure size 400x400 with 4 Axes>"
      ]
     },
     "metadata": {},
     "output_type": "display_data"
    }
   ],
   "source": [
    "combine_concepts([lava_quantity, visible_bullet], [1, -1], True)"
   ]
  },
  {
   "cell_type": "code",
   "execution_count": 15,
   "metadata": {},
   "outputs": [
    {
     "name": "stdout",
     "output_type": "stream",
     "text": [
      "1*player standing on wall - 1*visible bullet - 2*lava quantity\n"
     ]
    },
    {
     "data": {
      "image/png": "[encoded data removed]",
      "text/plain": [
       "<Figure size 400x400 with 4 Axes>"
      ]
     },
     "metadata": {},
     "output_type": "display_data"
    }
   ],
   "source": [
    "combine_concepts([player_standing_on_wall, visible_bullet, lava_quantity], [1, -1, -2], True)"
   ]
  },
  {
   "cell_type": "code",
   "execution_count": 16,
   "metadata": {},
   "outputs": [
    {
     "name": "stdout",
     "output_type": "stream",
     "text": [
      "1*player standing on wall + 1*player in air\n"
     ]
    },
    {
     "data": {
      "image/png": "[encoded data removed]",
      "text/plain": [
       "<Figure size 400x400 with 4 Axes>"
      ]
     },
     "metadata": {},
     "output_type": "display_data"
    }
   ],
   "source": [
    "combine_concepts([player_standing_on_wall, player_in_air], [1, 1], True)"
   ]
  },
  {
   "cell_type": "code",
   "execution_count": 17,
   "metadata": {},
   "outputs": [
    {
     "name": "stdout",
     "output_type": "stream",
     "text": [
      "1*events quantity\n"
     ]
    },
    {
     "data": {
      "image/png": "[encoded data removed]",
      "text/plain": [
       "<Figure size 400x400 with 4 Axes>"
      ]
     },
     "metadata": {},
     "output_type": "display_data"
    }
   ],
   "source": [
    "combine_concepts([event_quantity], [1], True)"
   ]
  },
  {
   "cell_type": "code",
   "execution_count": 18,
   "metadata": {},
   "outputs": [
    {
     "name": "stdout",
     "output_type": "stream",
     "text": [
      "1*events quantity - 2*good visible events\n"
     ]
    },
    {
     "data": {
      "image/png": "[encoded data removed]",
      "text/plain": [
       "<Figure size 400x400 with 4 Axes>"
      ]
     },
     "metadata": {},
     "output_type": "display_data"
    }
   ],
   "source": [
    "combine_concepts([event_quantity, good_visible_events], [1, -2], True)"
   ]
  }
 ],
 "metadata": {
  "kernelspec": {
   "display_name": "Python 3",
   "language": "python",
   "name": "python3"
  },
  "language_info": {
   "codemirror_mode": {
    "name": "ipython",
    "version": 3
   },
   "file_extension": ".py",
   "mimetype": "text/x-python",
   "name": "python",
   "nbconvert_exporter": "python",
   "pygments_lexer": "ipython3",
   "version": "3.9.5"
  }
 },
 "nbformat": 4,
 "nbformat_minor": 2
}
